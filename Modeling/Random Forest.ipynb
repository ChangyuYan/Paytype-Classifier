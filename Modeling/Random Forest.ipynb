{
 "cells": [
  {
   "cell_type": "markdown",
   "metadata": {},
   "source": [
    "# Pay Type Predictor - Random Forest Model\n",
    "\n",
    "The goal of this project is trying to build an algorithm to automatically test if a given payment information description belongs to the following three categories respectively: `is_productive`, `use_salaries`, and `use_hours`. These categories are independent, which means a specific payment can belong to more than one categories. \n",
    "\n",
    "So far, Random Forest seems to work the best. So in this file, we aim to tune the parameters for better accuracy."
   ]
  },
  {
   "cell_type": "code",
   "execution_count": 1,
   "metadata": {
    "scrolled": true
   },
   "outputs": [
    {
     "name": "stdout",
     "output_type": "stream",
     "text": [
      "README.md                 paycode_data.xlsx         paycode_first_clean.xlsx\r\n"
     ]
    }
   ],
   "source": [
    "ls data"
   ]
  },
  {
   "cell_type": "code",
   "execution_count": 2,
   "metadata": {},
   "outputs": [],
   "source": [
    "import pandas as pd\n",
    "import numpy as np\n",
    "import matplotlib.pyplot as plt"
   ]
  },
  {
   "cell_type": "markdown",
   "metadata": {},
   "source": [
    "# Step 1 - Data Preprocessing"
   ]
  },
  {
   "cell_type": "code",
   "execution_count": 3,
   "metadata": {
    "scrolled": true
   },
   "outputs": [
    {
     "data": {
      "text/html": [
       "<div>\n",
       "<style scoped>\n",
       "    .dataframe tbody tr th:only-of-type {\n",
       "        vertical-align: middle;\n",
       "    }\n",
       "\n",
       "    .dataframe tbody tr th {\n",
       "        vertical-align: top;\n",
       "    }\n",
       "\n",
       "    .dataframe thead th {\n",
       "        text-align: right;\n",
       "    }\n",
       "</style>\n",
       "<table border=\"1\" class=\"dataframe\">\n",
       "  <thead>\n",
       "    <tr style=\"text-align: right;\">\n",
       "      <th></th>\n",
       "      <th>report_id</th>\n",
       "      <th>pay_type_id</th>\n",
       "      <th>pay_type_description</th>\n",
       "      <th>Total_Dollars</th>\n",
       "      <th>Total_Hours</th>\n",
       "      <th>Hourly Rate</th>\n",
       "      <th>cr255210db1_pay_pay_types.is_productive</th>\n",
       "      <th>cr255210db1_pay_pay_types.use_salaries</th>\n",
       "      <th>cr255210db1_pay_pay_types.use_hours</th>\n",
       "    </tr>\n",
       "  </thead>\n",
       "  <tbody>\n",
       "    <tr>\n",
       "      <th>0</th>\n",
       "      <td>87</td>\n",
       "      <td>101</td>\n",
       "      <td>MISC-REGULAR</td>\n",
       "      <td>93339554.0</td>\n",
       "      <td>2679091.0</td>\n",
       "      <td>34.840009</td>\n",
       "      <td>1</td>\n",
       "      <td>1</td>\n",
       "      <td>1</td>\n",
       "    </tr>\n",
       "    <tr>\n",
       "      <th>1</th>\n",
       "      <td>87</td>\n",
       "      <td>102</td>\n",
       "      <td>MISC-SICK PAY</td>\n",
       "      <td>5258853.0</td>\n",
       "      <td>158087.0</td>\n",
       "      <td>33.265563</td>\n",
       "      <td>0</td>\n",
       "      <td>1</td>\n",
       "      <td>1</td>\n",
       "    </tr>\n",
       "    <tr>\n",
       "      <th>2</th>\n",
       "      <td>87</td>\n",
       "      <td>104</td>\n",
       "      <td>MISC-VACATION</td>\n",
       "      <td>6710429.0</td>\n",
       "      <td>196136.0</td>\n",
       "      <td>34.213143</td>\n",
       "      <td>0</td>\n",
       "      <td>1</td>\n",
       "      <td>1</td>\n",
       "    </tr>\n",
       "    <tr>\n",
       "      <th>3</th>\n",
       "      <td>87</td>\n",
       "      <td>105</td>\n",
       "      <td>MISC-OTHER TIMEOFF</td>\n",
       "      <td>10103587.0</td>\n",
       "      <td>289865.0</td>\n",
       "      <td>34.856181</td>\n",
       "      <td>0</td>\n",
       "      <td>1</td>\n",
       "      <td>1</td>\n",
       "    </tr>\n",
       "    <tr>\n",
       "      <th>4</th>\n",
       "      <td>87</td>\n",
       "      <td>201</td>\n",
       "      <td>UNIFORM-REGULAR</td>\n",
       "      <td>5080.0</td>\n",
       "      <td>180.0</td>\n",
       "      <td>28.222222</td>\n",
       "      <td>1</td>\n",
       "      <td>1</td>\n",
       "      <td>1</td>\n",
       "    </tr>\n",
       "  </tbody>\n",
       "</table>\n",
       "</div>"
      ],
      "text/plain": [
       "   report_id pay_type_id pay_type_description  Total_Dollars  Total_Hours  \\\n",
       "0         87         101         MISC-REGULAR     93339554.0    2679091.0   \n",
       "1         87         102        MISC-SICK PAY      5258853.0     158087.0   \n",
       "2         87         104        MISC-VACATION      6710429.0     196136.0   \n",
       "3         87         105   MISC-OTHER TIMEOFF     10103587.0     289865.0   \n",
       "4         87         201      UNIFORM-REGULAR         5080.0        180.0   \n",
       "\n",
       "   Hourly Rate  cr255210db1_pay_pay_types.is_productive  \\\n",
       "0    34.840009                                        1   \n",
       "1    33.265563                                        0   \n",
       "2    34.213143                                        0   \n",
       "3    34.856181                                        0   \n",
       "4    28.222222                                        1   \n",
       "\n",
       "   cr255210db1_pay_pay_types.use_salaries  cr255210db1_pay_pay_types.use_hours  \n",
       "0                                       1                                    1  \n",
       "1                                       1                                    1  \n",
       "2                                       1                                    1  \n",
       "3                                       1                                    1  \n",
       "4                                       1                                    1  "
      ]
     },
     "execution_count": 3,
     "metadata": {},
     "output_type": "execute_result"
    }
   ],
   "source": [
    "data = pd.read_excel('data/paycode_data.xlsx')\n",
    "data.head()"
   ]
  },
  {
   "cell_type": "code",
   "execution_count": 4,
   "metadata": {},
   "outputs": [],
   "source": [
    "data = data.drop(columns = [\"report_id\",\"pay_type_id\" ])"
   ]
  },
  {
   "cell_type": "code",
   "execution_count": 5,
   "metadata": {
    "scrolled": true
   },
   "outputs": [
    {
     "data": {
      "text/html": [
       "<div>\n",
       "<style scoped>\n",
       "    .dataframe tbody tr th:only-of-type {\n",
       "        vertical-align: middle;\n",
       "    }\n",
       "\n",
       "    .dataframe tbody tr th {\n",
       "        vertical-align: top;\n",
       "    }\n",
       "\n",
       "    .dataframe thead th {\n",
       "        text-align: right;\n",
       "    }\n",
       "</style>\n",
       "<table border=\"1\" class=\"dataframe\">\n",
       "  <thead>\n",
       "    <tr style=\"text-align: right;\">\n",
       "      <th></th>\n",
       "      <th>pay_type_description</th>\n",
       "      <th>total_dollars</th>\n",
       "      <th>total_hours</th>\n",
       "      <th>hourly_rate</th>\n",
       "      <th>is_productive</th>\n",
       "      <th>use_salaries</th>\n",
       "      <th>use_hours</th>\n",
       "    </tr>\n",
       "  </thead>\n",
       "  <tbody>\n",
       "    <tr>\n",
       "      <th>0</th>\n",
       "      <td>MISC-REGULAR</td>\n",
       "      <td>93339554.0</td>\n",
       "      <td>2679091.0</td>\n",
       "      <td>34.840009</td>\n",
       "      <td>1</td>\n",
       "      <td>1</td>\n",
       "      <td>1</td>\n",
       "    </tr>\n",
       "    <tr>\n",
       "      <th>1</th>\n",
       "      <td>MISC-SICK PAY</td>\n",
       "      <td>5258853.0</td>\n",
       "      <td>158087.0</td>\n",
       "      <td>33.265563</td>\n",
       "      <td>0</td>\n",
       "      <td>1</td>\n",
       "      <td>1</td>\n",
       "    </tr>\n",
       "    <tr>\n",
       "      <th>2</th>\n",
       "      <td>MISC-VACATION</td>\n",
       "      <td>6710429.0</td>\n",
       "      <td>196136.0</td>\n",
       "      <td>34.213143</td>\n",
       "      <td>0</td>\n",
       "      <td>1</td>\n",
       "      <td>1</td>\n",
       "    </tr>\n",
       "    <tr>\n",
       "      <th>3</th>\n",
       "      <td>MISC-OTHER TIMEOFF</td>\n",
       "      <td>10103587.0</td>\n",
       "      <td>289865.0</td>\n",
       "      <td>34.856181</td>\n",
       "      <td>0</td>\n",
       "      <td>1</td>\n",
       "      <td>1</td>\n",
       "    </tr>\n",
       "    <tr>\n",
       "      <th>4</th>\n",
       "      <td>UNIFORM-REGULAR</td>\n",
       "      <td>5080.0</td>\n",
       "      <td>180.0</td>\n",
       "      <td>28.222222</td>\n",
       "      <td>1</td>\n",
       "      <td>1</td>\n",
       "      <td>1</td>\n",
       "    </tr>\n",
       "  </tbody>\n",
       "</table>\n",
       "</div>"
      ],
      "text/plain": [
       "  pay_type_description  total_dollars  total_hours  hourly_rate  \\\n",
       "0         MISC-REGULAR     93339554.0    2679091.0    34.840009   \n",
       "1        MISC-SICK PAY      5258853.0     158087.0    33.265563   \n",
       "2        MISC-VACATION      6710429.0     196136.0    34.213143   \n",
       "3   MISC-OTHER TIMEOFF     10103587.0     289865.0    34.856181   \n",
       "4      UNIFORM-REGULAR         5080.0        180.0    28.222222   \n",
       "\n",
       "   is_productive  use_salaries  use_hours  \n",
       "0              1             1          1  \n",
       "1              0             1          1  \n",
       "2              0             1          1  \n",
       "3              0             1          1  \n",
       "4              1             1          1  "
      ]
     },
     "execution_count": 5,
     "metadata": {},
     "output_type": "execute_result"
    }
   ],
   "source": [
    "data.columns = ['pay_type_description', 'total_dollars', 'total_hours', 'hourly_rate', 'is_productive', 'use_salaries', 'use_hours']\n",
    "data.head()"
   ]
  },
  {
   "cell_type": "markdown",
   "metadata": {},
   "source": [
    "# Step 2 - Split Data into Training and Testing"
   ]
  },
  {
   "cell_type": "markdown",
   "metadata": {},
   "source": [
    "To avoid positional bias, we can shuffle the data frame rows."
   ]
  },
  {
   "cell_type": "code",
   "execution_count": 6,
   "metadata": {},
   "outputs": [
    {
     "data": {
      "text/html": [
       "<div>\n",
       "<style scoped>\n",
       "    .dataframe tbody tr th:only-of-type {\n",
       "        vertical-align: middle;\n",
       "    }\n",
       "\n",
       "    .dataframe tbody tr th {\n",
       "        vertical-align: top;\n",
       "    }\n",
       "\n",
       "    .dataframe thead th {\n",
       "        text-align: right;\n",
       "    }\n",
       "</style>\n",
       "<table border=\"1\" class=\"dataframe\">\n",
       "  <thead>\n",
       "    <tr style=\"text-align: right;\">\n",
       "      <th></th>\n",
       "      <th>pay_type_description</th>\n",
       "      <th>total_dollars</th>\n",
       "      <th>total_hours</th>\n",
       "      <th>hourly_rate</th>\n",
       "      <th>is_productive</th>\n",
       "      <th>use_salaries</th>\n",
       "      <th>use_hours</th>\n",
       "    </tr>\n",
       "  </thead>\n",
       "  <tbody>\n",
       "    <tr>\n",
       "      <th>0</th>\n",
       "      <td>Management Hours 3</td>\n",
       "      <td>25183.47</td>\n",
       "      <td>350.00</td>\n",
       "      <td>71.952771</td>\n",
       "      <td>1</td>\n",
       "      <td>1</td>\n",
       "      <td>1</td>\n",
       "    </tr>\n",
       "    <tr>\n",
       "      <th>1</th>\n",
       "      <td>Total Hours Worked</td>\n",
       "      <td>0.00</td>\n",
       "      <td>1113282.43</td>\n",
       "      <td>0.000000</td>\n",
       "      <td>1</td>\n",
       "      <td>1</td>\n",
       "      <td>0</td>\n",
       "    </tr>\n",
       "    <tr>\n",
       "      <th>2</th>\n",
       "      <td>REIMB_TUITION</td>\n",
       "      <td>303104.64</td>\n",
       "      <td>0.00</td>\n",
       "      <td>0.000000</td>\n",
       "      <td>0</td>\n",
       "      <td>0</td>\n",
       "      <td>0</td>\n",
       "    </tr>\n",
       "    <tr>\n",
       "      <th>3</th>\n",
       "      <td>HOL MNP Dual Vst HH</td>\n",
       "      <td>1561.18</td>\n",
       "      <td>0.00</td>\n",
       "      <td>0.000000</td>\n",
       "      <td>0</td>\n",
       "      <td>1</td>\n",
       "      <td>1</td>\n",
       "    </tr>\n",
       "    <tr>\n",
       "      <th>4</th>\n",
       "      <td>XWD WKEND DIFF</td>\n",
       "      <td>3510.16</td>\n",
       "      <td>1507.00</td>\n",
       "      <td>2.329237</td>\n",
       "      <td>0</td>\n",
       "      <td>1</td>\n",
       "      <td>0</td>\n",
       "    </tr>\n",
       "  </tbody>\n",
       "</table>\n",
       "</div>"
      ],
      "text/plain": [
       "  pay_type_description  total_dollars  total_hours  hourly_rate  \\\n",
       "0   Management Hours 3       25183.47       350.00    71.952771   \n",
       "1   Total Hours Worked           0.00   1113282.43     0.000000   \n",
       "2        REIMB_TUITION      303104.64         0.00     0.000000   \n",
       "3  HOL MNP Dual Vst HH        1561.18         0.00     0.000000   \n",
       "4       XWD WKEND DIFF        3510.16      1507.00     2.329237   \n",
       "\n",
       "   is_productive  use_salaries  use_hours  \n",
       "0              1             1          1  \n",
       "1              1             1          0  \n",
       "2              0             0          0  \n",
       "3              0             1          1  \n",
       "4              0             1          0  "
      ]
     },
     "execution_count": 6,
     "metadata": {},
     "output_type": "execute_result"
    }
   ],
   "source": [
    "data = data.sample(frac=1).reset_index(drop=True)\n",
    "data.head()"
   ]
  },
  {
   "cell_type": "code",
   "execution_count": 7,
   "metadata": {},
   "outputs": [
    {
     "data": {
      "text/plain": [
       "62391"
      ]
     },
     "execution_count": 7,
     "metadata": {},
     "output_type": "execute_result"
    }
   ],
   "source": [
    "total = len(data)\n",
    "total"
   ]
  },
  {
   "cell_type": "code",
   "execution_count": 8,
   "metadata": {},
   "outputs": [
    {
     "data": {
      "text/html": [
       "<div>\n",
       "<style scoped>\n",
       "    .dataframe tbody tr th:only-of-type {\n",
       "        vertical-align: middle;\n",
       "    }\n",
       "\n",
       "    .dataframe tbody tr th {\n",
       "        vertical-align: top;\n",
       "    }\n",
       "\n",
       "    .dataframe thead th {\n",
       "        text-align: right;\n",
       "    }\n",
       "</style>\n",
       "<table border=\"1\" class=\"dataframe\">\n",
       "  <thead>\n",
       "    <tr style=\"text-align: right;\">\n",
       "      <th></th>\n",
       "      <th>pay_type_description</th>\n",
       "      <th>total_dollars</th>\n",
       "      <th>total_hours</th>\n",
       "      <th>hourly_rate</th>\n",
       "      <th>is_productive</th>\n",
       "      <th>use_salaries</th>\n",
       "      <th>use_hours</th>\n",
       "    </tr>\n",
       "  </thead>\n",
       "  <tbody>\n",
       "    <tr>\n",
       "      <th>0</th>\n",
       "      <td>Management Hours 3</td>\n",
       "      <td>25183.47</td>\n",
       "      <td>350.00</td>\n",
       "      <td>71.952771</td>\n",
       "      <td>1</td>\n",
       "      <td>1</td>\n",
       "      <td>1</td>\n",
       "    </tr>\n",
       "    <tr>\n",
       "      <th>1</th>\n",
       "      <td>Total Hours Worked</td>\n",
       "      <td>0.00</td>\n",
       "      <td>1113282.43</td>\n",
       "      <td>0.000000</td>\n",
       "      <td>1</td>\n",
       "      <td>1</td>\n",
       "      <td>0</td>\n",
       "    </tr>\n",
       "    <tr>\n",
       "      <th>2</th>\n",
       "      <td>REIMB_TUITION</td>\n",
       "      <td>303104.64</td>\n",
       "      <td>0.00</td>\n",
       "      <td>0.000000</td>\n",
       "      <td>0</td>\n",
       "      <td>0</td>\n",
       "      <td>0</td>\n",
       "    </tr>\n",
       "    <tr>\n",
       "      <th>3</th>\n",
       "      <td>HOL MNP Dual Vst HH</td>\n",
       "      <td>1561.18</td>\n",
       "      <td>0.00</td>\n",
       "      <td>0.000000</td>\n",
       "      <td>0</td>\n",
       "      <td>1</td>\n",
       "      <td>1</td>\n",
       "    </tr>\n",
       "    <tr>\n",
       "      <th>4</th>\n",
       "      <td>XWD WKEND DIFF</td>\n",
       "      <td>3510.16</td>\n",
       "      <td>1507.00</td>\n",
       "      <td>2.329237</td>\n",
       "      <td>0</td>\n",
       "      <td>1</td>\n",
       "      <td>0</td>\n",
       "    </tr>\n",
       "  </tbody>\n",
       "</table>\n",
       "</div>"
      ],
      "text/plain": [
       "  pay_type_description  total_dollars  total_hours  hourly_rate  \\\n",
       "0   Management Hours 3       25183.47       350.00    71.952771   \n",
       "1   Total Hours Worked           0.00   1113282.43     0.000000   \n",
       "2        REIMB_TUITION      303104.64         0.00     0.000000   \n",
       "3  HOL MNP Dual Vst HH        1561.18         0.00     0.000000   \n",
       "4       XWD WKEND DIFF        3510.16      1507.00     2.329237   \n",
       "\n",
       "   is_productive  use_salaries  use_hours  \n",
       "0              1             1          1  \n",
       "1              1             1          0  \n",
       "2              0             0          0  \n",
       "3              0             1          1  \n",
       "4              0             1          0  "
      ]
     },
     "execution_count": 8,
     "metadata": {},
     "output_type": "execute_result"
    }
   ],
   "source": [
    "train = data.iloc[ : int(total*0.8)]\n",
    "train.head()"
   ]
  },
  {
   "cell_type": "code",
   "execution_count": 9,
   "metadata": {},
   "outputs": [
    {
     "data": {
      "text/html": [
       "<div>\n",
       "<style scoped>\n",
       "    .dataframe tbody tr th:only-of-type {\n",
       "        vertical-align: middle;\n",
       "    }\n",
       "\n",
       "    .dataframe tbody tr th {\n",
       "        vertical-align: top;\n",
       "    }\n",
       "\n",
       "    .dataframe thead th {\n",
       "        text-align: right;\n",
       "    }\n",
       "</style>\n",
       "<table border=\"1\" class=\"dataframe\">\n",
       "  <thead>\n",
       "    <tr style=\"text-align: right;\">\n",
       "      <th></th>\n",
       "      <th>pay_type_description</th>\n",
       "      <th>total_dollars</th>\n",
       "      <th>total_hours</th>\n",
       "      <th>hourly_rate</th>\n",
       "      <th>is_productive</th>\n",
       "      <th>use_salaries</th>\n",
       "      <th>use_hours</th>\n",
       "    </tr>\n",
       "  </thead>\n",
       "  <tbody>\n",
       "    <tr>\n",
       "      <th>49907</th>\n",
       "      <td>Reimbursement -Tuition Taxl PR</td>\n",
       "      <td>3.442370e+03</td>\n",
       "      <td>0.00</td>\n",
       "      <td>0.000000</td>\n",
       "      <td>1</td>\n",
       "      <td>1</td>\n",
       "      <td>0</td>\n",
       "    </tr>\n",
       "    <tr>\n",
       "      <th>49908</th>\n",
       "      <td>Holiday</td>\n",
       "      <td>4.459020e+03</td>\n",
       "      <td>60.80</td>\n",
       "      <td>73.339145</td>\n",
       "      <td>1</td>\n",
       "      <td>0</td>\n",
       "      <td>0</td>\n",
       "    </tr>\n",
       "    <tr>\n",
       "      <th>49909</th>\n",
       "      <td>Base Pay</td>\n",
       "      <td>1.197527e+08</td>\n",
       "      <td>2523053.47</td>\n",
       "      <td>47.463397</td>\n",
       "      <td>1</td>\n",
       "      <td>1</td>\n",
       "      <td>1</td>\n",
       "    </tr>\n",
       "    <tr>\n",
       "      <th>49910</th>\n",
       "      <td>Dom Part-CA Exempt (Noncash)</td>\n",
       "      <td>0.000000e+00</td>\n",
       "      <td>0.00</td>\n",
       "      <td>0.000000</td>\n",
       "      <td>0</td>\n",
       "      <td>0</td>\n",
       "      <td>0</td>\n",
       "    </tr>\n",
       "    <tr>\n",
       "      <th>49911</th>\n",
       "      <td>Salaries Reg</td>\n",
       "      <td>1.292478e+07</td>\n",
       "      <td>412736.00</td>\n",
       "      <td>31.314891</td>\n",
       "      <td>1</td>\n",
       "      <td>1</td>\n",
       "      <td>1</td>\n",
       "    </tr>\n",
       "  </tbody>\n",
       "</table>\n",
       "</div>"
      ],
      "text/plain": [
       "                 pay_type_description  total_dollars  total_hours  \\\n",
       "49907  Reimbursement -Tuition Taxl PR   3.442370e+03         0.00   \n",
       "49908                         Holiday   4.459020e+03        60.80   \n",
       "49909                        Base Pay   1.197527e+08   2523053.47   \n",
       "49910    Dom Part-CA Exempt (Noncash)   0.000000e+00         0.00   \n",
       "49911                    Salaries Reg   1.292478e+07    412736.00   \n",
       "\n",
       "       hourly_rate  is_productive  use_salaries  use_hours  \n",
       "49907     0.000000              1             1          0  \n",
       "49908    73.339145              1             0          0  \n",
       "49909    47.463397              1             1          1  \n",
       "49910     0.000000              0             0          0  \n",
       "49911    31.314891              1             1          1  "
      ]
     },
     "execution_count": 9,
     "metadata": {},
     "output_type": "execute_result"
    }
   ],
   "source": [
    "train.tail()"
   ]
  },
  {
   "cell_type": "code",
   "execution_count": 10,
   "metadata": {},
   "outputs": [
    {
     "data": {
      "text/html": [
       "<div>\n",
       "<style scoped>\n",
       "    .dataframe tbody tr th:only-of-type {\n",
       "        vertical-align: middle;\n",
       "    }\n",
       "\n",
       "    .dataframe tbody tr th {\n",
       "        vertical-align: top;\n",
       "    }\n",
       "\n",
       "    .dataframe thead th {\n",
       "        text-align: right;\n",
       "    }\n",
       "</style>\n",
       "<table border=\"1\" class=\"dataframe\">\n",
       "  <thead>\n",
       "    <tr style=\"text-align: right;\">\n",
       "      <th></th>\n",
       "      <th>pay_type_description</th>\n",
       "      <th>total_dollars</th>\n",
       "      <th>total_hours</th>\n",
       "      <th>hourly_rate</th>\n",
       "      <th>is_productive</th>\n",
       "      <th>use_salaries</th>\n",
       "      <th>use_hours</th>\n",
       "    </tr>\n",
       "  </thead>\n",
       "  <tbody>\n",
       "    <tr>\n",
       "      <th>49912</th>\n",
       "      <td>CI Rad Special Rate Work L6 DOT</td>\n",
       "      <td>2807.14</td>\n",
       "      <td>16.50</td>\n",
       "      <td>170.129697</td>\n",
       "      <td>1</td>\n",
       "      <td>1</td>\n",
       "      <td>1</td>\n",
       "    </tr>\n",
       "    <tr>\n",
       "      <th>49913</th>\n",
       "      <td>$TUITION</td>\n",
       "      <td>376155.50</td>\n",
       "      <td>0.00</td>\n",
       "      <td>0.000000</td>\n",
       "      <td>0</td>\n",
       "      <td>1</td>\n",
       "      <td>1</td>\n",
       "    </tr>\n",
       "    <tr>\n",
       "      <th>49914</th>\n",
       "      <td>Transport Differentail</td>\n",
       "      <td>21636.00</td>\n",
       "      <td>21636.00</td>\n",
       "      <td>1.000000</td>\n",
       "      <td>0</td>\n",
       "      <td>1</td>\n",
       "      <td>0</td>\n",
       "    </tr>\n",
       "    <tr>\n",
       "      <th>49915</th>\n",
       "      <td>CLIENT SERV. COMMISS</td>\n",
       "      <td>54553.00</td>\n",
       "      <td>0.00</td>\n",
       "      <td>0.000000</td>\n",
       "      <td>0</td>\n",
       "      <td>1</td>\n",
       "      <td>0</td>\n",
       "    </tr>\n",
       "    <tr>\n",
       "      <th>49916</th>\n",
       "      <td>PTO Payoff (Term-Supp Tax)</td>\n",
       "      <td>143420.31</td>\n",
       "      <td>3610.48</td>\n",
       "      <td>39.723336</td>\n",
       "      <td>0</td>\n",
       "      <td>1</td>\n",
       "      <td>0</td>\n",
       "    </tr>\n",
       "  </tbody>\n",
       "</table>\n",
       "</div>"
      ],
      "text/plain": [
       "                  pay_type_description  total_dollars  total_hours  \\\n",
       "49912  CI Rad Special Rate Work L6 DOT        2807.14        16.50   \n",
       "49913                         $TUITION      376155.50         0.00   \n",
       "49914           Transport Differentail       21636.00     21636.00   \n",
       "49915             CLIENT SERV. COMMISS       54553.00         0.00   \n",
       "49916       PTO Payoff (Term-Supp Tax)      143420.31      3610.48   \n",
       "\n",
       "       hourly_rate  is_productive  use_salaries  use_hours  \n",
       "49912   170.129697              1             1          1  \n",
       "49913     0.000000              0             1          1  \n",
       "49914     1.000000              0             1          0  \n",
       "49915     0.000000              0             1          0  \n",
       "49916    39.723336              0             1          0  "
      ]
     },
     "execution_count": 10,
     "metadata": {},
     "output_type": "execute_result"
    }
   ],
   "source": [
    "test = data.iloc[int(total*0.8):]\n",
    "test.head()"
   ]
  },
  {
   "cell_type": "markdown",
   "metadata": {},
   "source": [
    "What if we don't scale the values like we did in `Analysis.ipynb`? Would that give us the same accuracy?  Let's see. "
   ]
  },
  {
   "cell_type": "code",
   "execution_count": 11,
   "metadata": {},
   "outputs": [],
   "source": [
    "train_x = train[[\"total_dollars\", \"total_hours\", \"hourly_rate\"]]\n",
    "valid_x = test[[\"total_dollars\", \"total_hours\", \"hourly_rate\"]]\n",
    "\n",
    "# train_x = train[[\"total_dollars_scaled\"]]\n",
    "# valid_x = test[[\"total_dollars_scaled\"]]\n",
    "\n",
    "train_y_is_productive = train[[\"is_productive\"]]\n",
    "valid_y_is_productive = test.is_productive\n",
    "\n",
    "train_y_use_salaries = train[[\"use_salaries\"]]\n",
    "valid_y_use_salaries = test.use_salaries\n",
    "\n",
    "train_y_use_hours = train[[\"use_hours\"]]\n",
    "valid_y_use_hours = test.use_hours"
   ]
  },
  {
   "cell_type": "code",
   "execution_count": 12,
   "metadata": {},
   "outputs": [
    {
     "data": {
      "text/html": [
       "<div>\n",
       "<style scoped>\n",
       "    .dataframe tbody tr th:only-of-type {\n",
       "        vertical-align: middle;\n",
       "    }\n",
       "\n",
       "    .dataframe tbody tr th {\n",
       "        vertical-align: top;\n",
       "    }\n",
       "\n",
       "    .dataframe thead th {\n",
       "        text-align: right;\n",
       "    }\n",
       "</style>\n",
       "<table border=\"1\" class=\"dataframe\">\n",
       "  <thead>\n",
       "    <tr style=\"text-align: right;\">\n",
       "      <th></th>\n",
       "      <th>total_dollars</th>\n",
       "      <th>total_hours</th>\n",
       "      <th>hourly_rate</th>\n",
       "    </tr>\n",
       "  </thead>\n",
       "  <tbody>\n",
       "    <tr>\n",
       "      <th>0</th>\n",
       "      <td>25183.47</td>\n",
       "      <td>350.00</td>\n",
       "      <td>71.952771</td>\n",
       "    </tr>\n",
       "    <tr>\n",
       "      <th>1</th>\n",
       "      <td>0.00</td>\n",
       "      <td>1113282.43</td>\n",
       "      <td>0.000000</td>\n",
       "    </tr>\n",
       "    <tr>\n",
       "      <th>2</th>\n",
       "      <td>303104.64</td>\n",
       "      <td>0.00</td>\n",
       "      <td>0.000000</td>\n",
       "    </tr>\n",
       "    <tr>\n",
       "      <th>3</th>\n",
       "      <td>1561.18</td>\n",
       "      <td>0.00</td>\n",
       "      <td>0.000000</td>\n",
       "    </tr>\n",
       "    <tr>\n",
       "      <th>4</th>\n",
       "      <td>3510.16</td>\n",
       "      <td>1507.00</td>\n",
       "      <td>2.329237</td>\n",
       "    </tr>\n",
       "  </tbody>\n",
       "</table>\n",
       "</div>"
      ],
      "text/plain": [
       "   total_dollars  total_hours  hourly_rate\n",
       "0       25183.47       350.00    71.952771\n",
       "1           0.00   1113282.43     0.000000\n",
       "2      303104.64         0.00     0.000000\n",
       "3        1561.18         0.00     0.000000\n",
       "4        3510.16      1507.00     2.329237"
      ]
     },
     "execution_count": 12,
     "metadata": {},
     "output_type": "execute_result"
    }
   ],
   "source": [
    "train_x.head()"
   ]
  },
  {
   "cell_type": "code",
   "execution_count": 13,
   "metadata": {},
   "outputs": [
    {
     "data": {
      "text/html": [
       "<div>\n",
       "<style scoped>\n",
       "    .dataframe tbody tr th:only-of-type {\n",
       "        vertical-align: middle;\n",
       "    }\n",
       "\n",
       "    .dataframe tbody tr th {\n",
       "        vertical-align: top;\n",
       "    }\n",
       "\n",
       "    .dataframe thead th {\n",
       "        text-align: right;\n",
       "    }\n",
       "</style>\n",
       "<table border=\"1\" class=\"dataframe\">\n",
       "  <thead>\n",
       "    <tr style=\"text-align: right;\">\n",
       "      <th></th>\n",
       "      <th>total_dollars</th>\n",
       "      <th>total_hours</th>\n",
       "      <th>hourly_rate</th>\n",
       "    </tr>\n",
       "  </thead>\n",
       "  <tbody>\n",
       "    <tr>\n",
       "      <th>49912</th>\n",
       "      <td>2807.14</td>\n",
       "      <td>16.50</td>\n",
       "      <td>170.129697</td>\n",
       "    </tr>\n",
       "    <tr>\n",
       "      <th>49913</th>\n",
       "      <td>376155.50</td>\n",
       "      <td>0.00</td>\n",
       "      <td>0.000000</td>\n",
       "    </tr>\n",
       "    <tr>\n",
       "      <th>49914</th>\n",
       "      <td>21636.00</td>\n",
       "      <td>21636.00</td>\n",
       "      <td>1.000000</td>\n",
       "    </tr>\n",
       "    <tr>\n",
       "      <th>49915</th>\n",
       "      <td>54553.00</td>\n",
       "      <td>0.00</td>\n",
       "      <td>0.000000</td>\n",
       "    </tr>\n",
       "    <tr>\n",
       "      <th>49916</th>\n",
       "      <td>143420.31</td>\n",
       "      <td>3610.48</td>\n",
       "      <td>39.723336</td>\n",
       "    </tr>\n",
       "  </tbody>\n",
       "</table>\n",
       "</div>"
      ],
      "text/plain": [
       "       total_dollars  total_hours  hourly_rate\n",
       "49912        2807.14        16.50   170.129697\n",
       "49913      376155.50         0.00     0.000000\n",
       "49914       21636.00     21636.00     1.000000\n",
       "49915       54553.00         0.00     0.000000\n",
       "49916      143420.31      3610.48    39.723336"
      ]
     },
     "execution_count": 13,
     "metadata": {},
     "output_type": "execute_result"
    }
   ],
   "source": [
    "valid_x.head()"
   ]
  },
  {
   "cell_type": "markdown",
   "metadata": {},
   "source": [
    "# Random Forest"
   ]
  },
  {
   "cell_type": "code",
   "execution_count": 14,
   "metadata": {},
   "outputs": [],
   "source": [
    "from sklearn.ensemble import RandomForestRegressor\n",
    "import pickle"
   ]
  },
  {
   "cell_type": "code",
   "execution_count": 15,
   "metadata": {},
   "outputs": [],
   "source": [
    "def rf_train(category, rf):\n",
    "    \n",
    "    # We assume hyperparameters are already initialized in rf\n",
    "    # Training \n",
    "    print(\"Category: \", str(category))\n",
    "    print(\"Training...\")\n",
    "    \n",
    "    if category == \"is_productive\":\n",
    "        rf.fit(train_x, train_y_is_productive)\n",
    "    elif category == \"use_salaries\":\n",
    "        rf.fit(train_x, train_y_use_salaries)\n",
    "    elif category == \"use_hours\":\n",
    "        rf.fit(train_x, train_y_use_hours)\n",
    "    else:\n",
    "        print(\"ERROR: Input Category Not Recognized!\")\n",
    "        return \n",
    "        \n",
    "    print(\"Training completed!\")\n",
    "\n",
    "    # Predicting \n",
    "    print(\"Predicting...\")\n",
    "    pred = rf.predict(valid_x)\n",
    "    train_pred = rf.predict(train_x)\n",
    "\n",
    "    pred = pred.reshape((len(pred), ))\n",
    "    train_pred = train_pred.reshape((len(train_pred), ))\n",
    "\n",
    "    pred = [round(x) for x in pred]\n",
    "    train_pred = [round(x) for x in train_pred]\n",
    "    print(\"Prediction Completed! \")\n",
    "    \n",
    "    # Printing Results\n",
    "    if category == \"is_productive\":\n",
    "        count = 0\n",
    "        for i in range(len(train_pred)):\n",
    "            if train_pred[i] == train_y_is_productive.is_productive[i]:\n",
    "                count += 1\n",
    "        print(\"Training Accuracy = \", str(count / len(train_pred)))\n",
    "\n",
    "        count = 0\n",
    "        vy = list(valid_y_is_productive)\n",
    "        for i in range(len(valid_x)):\n",
    "            if pred[i] == vy[i]:\n",
    "                count += 1\n",
    "        print(\"Testing Accuracy = \", str(count / len(valid_x)))\n",
    "    \n",
    "    elif category == \"use_salaries\":\n",
    "        count = 0\n",
    "        for i in range(len(train_pred)):\n",
    "            if train_pred[i] == train_y_use_salaries.use_salaries[i]:\n",
    "                count += 1\n",
    "        print(\"Training Accuracy = \", str(count / len(train_pred)))\n",
    "\n",
    "        count = 0\n",
    "        vy = list(valid_y_use_salaries)\n",
    "        for i in range(len(valid_x)):\n",
    "            if pred[i] == vy[i]:\n",
    "                count += 1\n",
    "        print(\"Testing Accuracy = \", str(count / len(valid_x)))\n",
    "    \n",
    "    elif category == \"use_hours\": \n",
    "        count = 0\n",
    "        for i in range(len(train_pred)):\n",
    "            if train_pred[i] == train_y_use_hours.use_hours[i]:\n",
    "                count += 1\n",
    "        print(\"Training Accuracy = \", str(count / len(train_pred)))\n",
    "\n",
    "        count = 0\n",
    "        vy = list(valid_y_use_hours)\n",
    "        for i in range(len(valid_x)):\n",
    "            if pred[i] == vy[i]:\n",
    "                count += 1\n",
    "        print(\"Testing Accuracy = \", str(count / len(valid_x)))\n",
    "    \n",
    "    # Saving Models to /Flask/models\n",
    "    pickle.dump(rf, open('../Flask/models/RandomForest_' + category + '.pkl', 'wb'))\n",
    "    print(\"Model saved at ../Flask/models/RandomForest_\"+ category + \".pkl\", )"
   ]
  },
  {
   "cell_type": "code",
   "execution_count": 16,
   "metadata": {},
   "outputs": [
    {
     "name": "stdout",
     "output_type": "stream",
     "text": [
      "Category:  use_hours\n",
      "Training...\n"
     ]
    },
    {
     "name": "stderr",
     "output_type": "stream",
     "text": [
      "/Users/changyuyan/anaconda3/lib/python3.7/site-packages/ipykernel_launcher.py:13: DataConversionWarning: A column-vector y was passed when a 1d array was expected. Please change the shape of y to (n_samples,), for example using ravel().\n",
      "  del sys.path[0]\n"
     ]
    },
    {
     "name": "stdout",
     "output_type": "stream",
     "text": [
      "Training completed!\n",
      "Predicting...\n",
      "Prediction Completed! \n",
      "Training Accuracy =  0.8772239140887963\n",
      "Testing Accuracy =  0.8509495953201378\n",
      "Model saved at ../Flask/models/RandomForest_use_hours.pkl\n"
     ]
    }
   ],
   "source": [
    "rf_use_hours = RandomForestRegressor(max_depth = 15, n_estimators = 25)\n",
    "rf_train(\"use_hours\", rf_use_hours)"
   ]
  },
  {
   "cell_type": "code",
   "execution_count": 17,
   "metadata": {},
   "outputs": [
    {
     "name": "stdout",
     "output_type": "stream",
     "text": [
      "Category:  use_salaries\n",
      "Training...\n"
     ]
    },
    {
     "name": "stderr",
     "output_type": "stream",
     "text": [
      "/Users/changyuyan/anaconda3/lib/python3.7/site-packages/ipykernel_launcher.py:11: DataConversionWarning: A column-vector y was passed when a 1d array was expected. Please change the shape of y to (n_samples,), for example using ravel().\n",
      "  # This is added back by InteractiveShellApp.init_path()\n"
     ]
    },
    {
     "name": "stdout",
     "output_type": "stream",
     "text": [
      "Training completed!\n",
      "Predicting...\n",
      "Prediction Completed! \n",
      "Training Accuracy =  0.9278930918416413\n",
      "Testing Accuracy =  0.8937414856959692\n",
      "Model saved at ../Flask/models/RandomForest_use_salaries.pkl\n"
     ]
    }
   ],
   "source": [
    "rf_use_salaries = RandomForestRegressor(max_depth = 20, n_estimators = 50)\n",
    "rf_train(\"use_salaries\", rf_use_salaries)"
   ]
  },
  {
   "cell_type": "code",
   "execution_count": 18,
   "metadata": {},
   "outputs": [
    {
     "name": "stdout",
     "output_type": "stream",
     "text": [
      "Category:  is_productive\n",
      "Training...\n"
     ]
    },
    {
     "name": "stderr",
     "output_type": "stream",
     "text": [
      "/Users/changyuyan/anaconda3/lib/python3.7/site-packages/ipykernel_launcher.py:9: DataConversionWarning: A column-vector y was passed when a 1d array was expected. Please change the shape of y to (n_samples,), for example using ravel().\n",
      "  if __name__ == '__main__':\n"
     ]
    },
    {
     "name": "stdout",
     "output_type": "stream",
     "text": [
      "Training completed!\n",
      "Predicting...\n",
      "Prediction Completed! \n",
      "Training Accuracy =  0.6909360474435006\n",
      "Testing Accuracy =  0.6613510697972594\n",
      "Model saved at ../Flask/models/RandomForest_is_productive.pkl\n"
     ]
    }
   ],
   "source": [
    "rf_is_produtive = RandomForestRegressor(max_depth = 10, n_estimators = 20)\n",
    "rf_train(\"is_productive\", rf_is_produtive)"
   ]
  },
  {
   "cell_type": "code",
   "execution_count": 19,
   "metadata": {},
   "outputs": [
    {
     "name": "stdout",
     "output_type": "stream",
     "text": [
      "RandomForest.pkl                RandomForest_use_hours.pkl\r\n",
      "RandomForest_is_productive.pkl  RandomForest_use_salaries.pkl\r\n"
     ]
    }
   ],
   "source": [
    "ls ../Flask/models"
   ]
  },
  {
   "cell_type": "code",
   "execution_count": null,
   "metadata": {},
   "outputs": [],
   "source": []
  }
 ],
 "metadata": {
  "kernelspec": {
   "display_name": "Python 3",
   "language": "python",
   "name": "python3"
  },
  "language_info": {
   "codemirror_mode": {
    "name": "ipython",
    "version": 3
   },
   "file_extension": ".py",
   "mimetype": "text/x-python",
   "name": "python",
   "nbconvert_exporter": "python",
   "pygments_lexer": "ipython3",
   "version": "3.7.3"
  }
 },
 "nbformat": 4,
 "nbformat_minor": 2
}
