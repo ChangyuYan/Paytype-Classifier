{
 "cells": [
  {
   "cell_type": "markdown",
   "metadata": {},
   "source": [
    "# Pay Type Predictor - Random Forest Model\n",
    "\n",
    "The goal of this project is trying to build an algorithm to automatically test if a given payment information description belongs to the following three categories respectively: `is_productive`, `use_salaries`, and `use_hours`. These categories are independent, which means a specific payment can belong to more than one categories. \n",
    "\n",
    "So far, Random Forest seems to work the best. So in this file, we aim to tune the parameters for better accuracy."
   ]
  },
  {
   "cell_type": "code",
   "execution_count": 1,
   "metadata": {
    "scrolled": true
   },
   "outputs": [
    {
     "name": "stdout",
     "output_type": "stream",
     "text": [
      "README.md                       paycode_data.xlsx\r\n",
      "paycode_clean_string_only.xlsx  paycode_first_clean.xlsx\r\n"
     ]
    }
   ],
   "source": [
    "ls data"
   ]
  },
  {
   "cell_type": "code",
   "execution_count": 2,
   "metadata": {},
   "outputs": [],
   "source": [
    "import pandas as pd\n",
    "import numpy as np\n",
    "import matplotlib.pyplot as plt"
   ]
  },
  {
   "cell_type": "markdown",
   "metadata": {},
   "source": [
    "# Step 1 - Data Preprocessing"
   ]
  },
  {
   "cell_type": "code",
   "execution_count": 3,
   "metadata": {
    "scrolled": true
   },
   "outputs": [
    {
     "data": {
      "text/html": [
       "<div>\n",
       "<style scoped>\n",
       "    .dataframe tbody tr th:only-of-type {\n",
       "        vertical-align: middle;\n",
       "    }\n",
       "\n",
       "    .dataframe tbody tr th {\n",
       "        vertical-align: top;\n",
       "    }\n",
       "\n",
       "    .dataframe thead th {\n",
       "        text-align: right;\n",
       "    }\n",
       "</style>\n",
       "<table border=\"1\" class=\"dataframe\">\n",
       "  <thead>\n",
       "    <tr style=\"text-align: right;\">\n",
       "      <th></th>\n",
       "      <th>report_id</th>\n",
       "      <th>pay_type_id</th>\n",
       "      <th>pay_type_description</th>\n",
       "      <th>Total_Dollars</th>\n",
       "      <th>Total_Hours</th>\n",
       "      <th>Hourly Rate</th>\n",
       "      <th>cr255210db1_pay_pay_types.is_productive</th>\n",
       "      <th>cr255210db1_pay_pay_types.use_salaries</th>\n",
       "      <th>cr255210db1_pay_pay_types.use_hours</th>\n",
       "    </tr>\n",
       "  </thead>\n",
       "  <tbody>\n",
       "    <tr>\n",
       "      <th>0</th>\n",
       "      <td>87</td>\n",
       "      <td>101</td>\n",
       "      <td>MISC-REGULAR</td>\n",
       "      <td>93339554.0</td>\n",
       "      <td>2679091.0</td>\n",
       "      <td>34.840009</td>\n",
       "      <td>1</td>\n",
       "      <td>1</td>\n",
       "      <td>1</td>\n",
       "    </tr>\n",
       "    <tr>\n",
       "      <th>1</th>\n",
       "      <td>87</td>\n",
       "      <td>102</td>\n",
       "      <td>MISC-SICK PAY</td>\n",
       "      <td>5258853.0</td>\n",
       "      <td>158087.0</td>\n",
       "      <td>33.265563</td>\n",
       "      <td>0</td>\n",
       "      <td>1</td>\n",
       "      <td>1</td>\n",
       "    </tr>\n",
       "    <tr>\n",
       "      <th>2</th>\n",
       "      <td>87</td>\n",
       "      <td>104</td>\n",
       "      <td>MISC-VACATION</td>\n",
       "      <td>6710429.0</td>\n",
       "      <td>196136.0</td>\n",
       "      <td>34.213143</td>\n",
       "      <td>0</td>\n",
       "      <td>1</td>\n",
       "      <td>1</td>\n",
       "    </tr>\n",
       "    <tr>\n",
       "      <th>3</th>\n",
       "      <td>87</td>\n",
       "      <td>105</td>\n",
       "      <td>MISC-OTHER TIMEOFF</td>\n",
       "      <td>10103587.0</td>\n",
       "      <td>289865.0</td>\n",
       "      <td>34.856181</td>\n",
       "      <td>0</td>\n",
       "      <td>1</td>\n",
       "      <td>1</td>\n",
       "    </tr>\n",
       "    <tr>\n",
       "      <th>4</th>\n",
       "      <td>87</td>\n",
       "      <td>201</td>\n",
       "      <td>UNIFORM-REGULAR</td>\n",
       "      <td>5080.0</td>\n",
       "      <td>180.0</td>\n",
       "      <td>28.222222</td>\n",
       "      <td>1</td>\n",
       "      <td>1</td>\n",
       "      <td>1</td>\n",
       "    </tr>\n",
       "  </tbody>\n",
       "</table>\n",
       "</div>"
      ],
      "text/plain": [
       "   report_id pay_type_id pay_type_description  Total_Dollars  Total_Hours  \\\n",
       "0         87         101         MISC-REGULAR     93339554.0    2679091.0   \n",
       "1         87         102        MISC-SICK PAY      5258853.0     158087.0   \n",
       "2         87         104        MISC-VACATION      6710429.0     196136.0   \n",
       "3         87         105   MISC-OTHER TIMEOFF     10103587.0     289865.0   \n",
       "4         87         201      UNIFORM-REGULAR         5080.0        180.0   \n",
       "\n",
       "   Hourly Rate  cr255210db1_pay_pay_types.is_productive  \\\n",
       "0    34.840009                                        1   \n",
       "1    33.265563                                        0   \n",
       "2    34.213143                                        0   \n",
       "3    34.856181                                        0   \n",
       "4    28.222222                                        1   \n",
       "\n",
       "   cr255210db1_pay_pay_types.use_salaries  cr255210db1_pay_pay_types.use_hours  \n",
       "0                                       1                                    1  \n",
       "1                                       1                                    1  \n",
       "2                                       1                                    1  \n",
       "3                                       1                                    1  \n",
       "4                                       1                                    1  "
      ]
     },
     "execution_count": 3,
     "metadata": {},
     "output_type": "execute_result"
    }
   ],
   "source": [
    "data = pd.read_excel('data/paycode_data.xlsx')\n",
    "data.head()"
   ]
  },
  {
   "cell_type": "code",
   "execution_count": 4,
   "metadata": {},
   "outputs": [],
   "source": [
    "data = data.drop(columns = [\"report_id\",\"pay_type_id\" ])"
   ]
  },
  {
   "cell_type": "code",
   "execution_count": 5,
   "metadata": {
    "scrolled": true
   },
   "outputs": [
    {
     "data": {
      "text/html": [
       "<div>\n",
       "<style scoped>\n",
       "    .dataframe tbody tr th:only-of-type {\n",
       "        vertical-align: middle;\n",
       "    }\n",
       "\n",
       "    .dataframe tbody tr th {\n",
       "        vertical-align: top;\n",
       "    }\n",
       "\n",
       "    .dataframe thead th {\n",
       "        text-align: right;\n",
       "    }\n",
       "</style>\n",
       "<table border=\"1\" class=\"dataframe\">\n",
       "  <thead>\n",
       "    <tr style=\"text-align: right;\">\n",
       "      <th></th>\n",
       "      <th>pay_type_description</th>\n",
       "      <th>total_dollars</th>\n",
       "      <th>total_hours</th>\n",
       "      <th>hourly_rate</th>\n",
       "      <th>is_productive</th>\n",
       "      <th>use_salaries</th>\n",
       "      <th>use_hours</th>\n",
       "    </tr>\n",
       "  </thead>\n",
       "  <tbody>\n",
       "    <tr>\n",
       "      <th>0</th>\n",
       "      <td>MISC-REGULAR</td>\n",
       "      <td>93339554.0</td>\n",
       "      <td>2679091.0</td>\n",
       "      <td>34.840009</td>\n",
       "      <td>1</td>\n",
       "      <td>1</td>\n",
       "      <td>1</td>\n",
       "    </tr>\n",
       "    <tr>\n",
       "      <th>1</th>\n",
       "      <td>MISC-SICK PAY</td>\n",
       "      <td>5258853.0</td>\n",
       "      <td>158087.0</td>\n",
       "      <td>33.265563</td>\n",
       "      <td>0</td>\n",
       "      <td>1</td>\n",
       "      <td>1</td>\n",
       "    </tr>\n",
       "    <tr>\n",
       "      <th>2</th>\n",
       "      <td>MISC-VACATION</td>\n",
       "      <td>6710429.0</td>\n",
       "      <td>196136.0</td>\n",
       "      <td>34.213143</td>\n",
       "      <td>0</td>\n",
       "      <td>1</td>\n",
       "      <td>1</td>\n",
       "    </tr>\n",
       "    <tr>\n",
       "      <th>3</th>\n",
       "      <td>MISC-OTHER TIMEOFF</td>\n",
       "      <td>10103587.0</td>\n",
       "      <td>289865.0</td>\n",
       "      <td>34.856181</td>\n",
       "      <td>0</td>\n",
       "      <td>1</td>\n",
       "      <td>1</td>\n",
       "    </tr>\n",
       "    <tr>\n",
       "      <th>4</th>\n",
       "      <td>UNIFORM-REGULAR</td>\n",
       "      <td>5080.0</td>\n",
       "      <td>180.0</td>\n",
       "      <td>28.222222</td>\n",
       "      <td>1</td>\n",
       "      <td>1</td>\n",
       "      <td>1</td>\n",
       "    </tr>\n",
       "  </tbody>\n",
       "</table>\n",
       "</div>"
      ],
      "text/plain": [
       "  pay_type_description  total_dollars  total_hours  hourly_rate  \\\n",
       "0         MISC-REGULAR     93339554.0    2679091.0    34.840009   \n",
       "1        MISC-SICK PAY      5258853.0     158087.0    33.265563   \n",
       "2        MISC-VACATION      6710429.0     196136.0    34.213143   \n",
       "3   MISC-OTHER TIMEOFF     10103587.0     289865.0    34.856181   \n",
       "4      UNIFORM-REGULAR         5080.0        180.0    28.222222   \n",
       "\n",
       "   is_productive  use_salaries  use_hours  \n",
       "0              1             1          1  \n",
       "1              0             1          1  \n",
       "2              0             1          1  \n",
       "3              0             1          1  \n",
       "4              1             1          1  "
      ]
     },
     "execution_count": 5,
     "metadata": {},
     "output_type": "execute_result"
    }
   ],
   "source": [
    "data.columns = ['pay_type_description', 'total_dollars', 'total_hours', 'hourly_rate', 'is_productive', 'use_salaries', 'use_hours']\n",
    "data.head()"
   ]
  },
  {
   "cell_type": "markdown",
   "metadata": {},
   "source": [
    "# Step 2 - Split Data into Training and Testing"
   ]
  },
  {
   "cell_type": "markdown",
   "metadata": {},
   "source": [
    "To avoid positional bias, we can shuffle the data frame rows."
   ]
  },
  {
   "cell_type": "code",
   "execution_count": 6,
   "metadata": {},
   "outputs": [
    {
     "data": {
      "text/html": [
       "<div>\n",
       "<style scoped>\n",
       "    .dataframe tbody tr th:only-of-type {\n",
       "        vertical-align: middle;\n",
       "    }\n",
       "\n",
       "    .dataframe tbody tr th {\n",
       "        vertical-align: top;\n",
       "    }\n",
       "\n",
       "    .dataframe thead th {\n",
       "        text-align: right;\n",
       "    }\n",
       "</style>\n",
       "<table border=\"1\" class=\"dataframe\">\n",
       "  <thead>\n",
       "    <tr style=\"text-align: right;\">\n",
       "      <th></th>\n",
       "      <th>pay_type_description</th>\n",
       "      <th>total_dollars</th>\n",
       "      <th>total_hours</th>\n",
       "      <th>hourly_rate</th>\n",
       "      <th>is_productive</th>\n",
       "      <th>use_salaries</th>\n",
       "      <th>use_hours</th>\n",
       "    </tr>\n",
       "  </thead>\n",
       "  <tbody>\n",
       "    <tr>\n",
       "      <th>0</th>\n",
       "      <td>Retroactive Calculation</td>\n",
       "      <td>25933.28</td>\n",
       "      <td>0.00</td>\n",
       "      <td>0.000000</td>\n",
       "      <td>0</td>\n",
       "      <td>1</td>\n",
       "      <td>0</td>\n",
       "    </tr>\n",
       "    <tr>\n",
       "      <th>1</th>\n",
       "      <td>PTO Leave</td>\n",
       "      <td>1021.88</td>\n",
       "      <td>14.25</td>\n",
       "      <td>71.710877</td>\n",
       "      <td>0</td>\n",
       "      <td>1</td>\n",
       "      <td>1</td>\n",
       "    </tr>\n",
       "    <tr>\n",
       "      <th>2</th>\n",
       "      <td>Retro Cashout Hol - NOT EC</td>\n",
       "      <td>51.20</td>\n",
       "      <td>0.00</td>\n",
       "      <td>0.000000</td>\n",
       "      <td>0</td>\n",
       "      <td>1</td>\n",
       "      <td>0</td>\n",
       "    </tr>\n",
       "    <tr>\n",
       "      <th>3</th>\n",
       "      <td>Double-time Evening Shift</td>\n",
       "      <td>139169.31</td>\n",
       "      <td>1165.06</td>\n",
       "      <td>119.452483</td>\n",
       "      <td>1</td>\n",
       "      <td>1</td>\n",
       "      <td>1</td>\n",
       "    </tr>\n",
       "    <tr>\n",
       "      <th>4</th>\n",
       "      <td>NaN</td>\n",
       "      <td>36287.12</td>\n",
       "      <td>2080.10</td>\n",
       "      <td>17.444892</td>\n",
       "      <td>1</td>\n",
       "      <td>1</td>\n",
       "      <td>1</td>\n",
       "    </tr>\n",
       "  </tbody>\n",
       "</table>\n",
       "</div>"
      ],
      "text/plain": [
       "         pay_type_description  total_dollars  total_hours  hourly_rate  \\\n",
       "0     Retroactive Calculation       25933.28         0.00     0.000000   \n",
       "1                   PTO Leave        1021.88        14.25    71.710877   \n",
       "2  Retro Cashout Hol - NOT EC          51.20         0.00     0.000000   \n",
       "3   Double-time Evening Shift      139169.31      1165.06   119.452483   \n",
       "4                         NaN       36287.12      2080.10    17.444892   \n",
       "\n",
       "   is_productive  use_salaries  use_hours  \n",
       "0              0             1          0  \n",
       "1              0             1          1  \n",
       "2              0             1          0  \n",
       "3              1             1          1  \n",
       "4              1             1          1  "
      ]
     },
     "execution_count": 6,
     "metadata": {},
     "output_type": "execute_result"
    }
   ],
   "source": [
    "data = data.sample(frac=1).reset_index(drop=True)\n",
    "data.head()"
   ]
  },
  {
   "cell_type": "code",
   "execution_count": 7,
   "metadata": {},
   "outputs": [
    {
     "data": {
      "text/plain": [
       "62391"
      ]
     },
     "execution_count": 7,
     "metadata": {},
     "output_type": "execute_result"
    }
   ],
   "source": [
    "total = len(data)\n",
    "total"
   ]
  },
  {
   "cell_type": "code",
   "execution_count": 8,
   "metadata": {},
   "outputs": [
    {
     "data": {
      "text/html": [
       "<div>\n",
       "<style scoped>\n",
       "    .dataframe tbody tr th:only-of-type {\n",
       "        vertical-align: middle;\n",
       "    }\n",
       "\n",
       "    .dataframe tbody tr th {\n",
       "        vertical-align: top;\n",
       "    }\n",
       "\n",
       "    .dataframe thead th {\n",
       "        text-align: right;\n",
       "    }\n",
       "</style>\n",
       "<table border=\"1\" class=\"dataframe\">\n",
       "  <thead>\n",
       "    <tr style=\"text-align: right;\">\n",
       "      <th></th>\n",
       "      <th>pay_type_description</th>\n",
       "      <th>total_dollars</th>\n",
       "      <th>total_hours</th>\n",
       "      <th>hourly_rate</th>\n",
       "      <th>is_productive</th>\n",
       "      <th>use_salaries</th>\n",
       "      <th>use_hours</th>\n",
       "    </tr>\n",
       "  </thead>\n",
       "  <tbody>\n",
       "    <tr>\n",
       "      <th>0</th>\n",
       "      <td>Retroactive Calculation</td>\n",
       "      <td>25933.28</td>\n",
       "      <td>0.00</td>\n",
       "      <td>0.000000</td>\n",
       "      <td>0</td>\n",
       "      <td>1</td>\n",
       "      <td>0</td>\n",
       "    </tr>\n",
       "    <tr>\n",
       "      <th>1</th>\n",
       "      <td>PTO Leave</td>\n",
       "      <td>1021.88</td>\n",
       "      <td>14.25</td>\n",
       "      <td>71.710877</td>\n",
       "      <td>0</td>\n",
       "      <td>1</td>\n",
       "      <td>1</td>\n",
       "    </tr>\n",
       "    <tr>\n",
       "      <th>2</th>\n",
       "      <td>Retro Cashout Hol - NOT EC</td>\n",
       "      <td>51.20</td>\n",
       "      <td>0.00</td>\n",
       "      <td>0.000000</td>\n",
       "      <td>0</td>\n",
       "      <td>1</td>\n",
       "      <td>0</td>\n",
       "    </tr>\n",
       "    <tr>\n",
       "      <th>3</th>\n",
       "      <td>Double-time Evening Shift</td>\n",
       "      <td>139169.31</td>\n",
       "      <td>1165.06</td>\n",
       "      <td>119.452483</td>\n",
       "      <td>1</td>\n",
       "      <td>1</td>\n",
       "      <td>1</td>\n",
       "    </tr>\n",
       "    <tr>\n",
       "      <th>4</th>\n",
       "      <td>NaN</td>\n",
       "      <td>36287.12</td>\n",
       "      <td>2080.10</td>\n",
       "      <td>17.444892</td>\n",
       "      <td>1</td>\n",
       "      <td>1</td>\n",
       "      <td>1</td>\n",
       "    </tr>\n",
       "  </tbody>\n",
       "</table>\n",
       "</div>"
      ],
      "text/plain": [
       "         pay_type_description  total_dollars  total_hours  hourly_rate  \\\n",
       "0     Retroactive Calculation       25933.28         0.00     0.000000   \n",
       "1                   PTO Leave        1021.88        14.25    71.710877   \n",
       "2  Retro Cashout Hol - NOT EC          51.20         0.00     0.000000   \n",
       "3   Double-time Evening Shift      139169.31      1165.06   119.452483   \n",
       "4                         NaN       36287.12      2080.10    17.444892   \n",
       "\n",
       "   is_productive  use_salaries  use_hours  \n",
       "0              0             1          0  \n",
       "1              0             1          1  \n",
       "2              0             1          0  \n",
       "3              1             1          1  \n",
       "4              1             1          1  "
      ]
     },
     "execution_count": 8,
     "metadata": {},
     "output_type": "execute_result"
    }
   ],
   "source": [
    "train = data.iloc[ : int(total*0.8)]\n",
    "train.head()"
   ]
  },
  {
   "cell_type": "code",
   "execution_count": 9,
   "metadata": {},
   "outputs": [
    {
     "data": {
      "text/html": [
       "<div>\n",
       "<style scoped>\n",
       "    .dataframe tbody tr th:only-of-type {\n",
       "        vertical-align: middle;\n",
       "    }\n",
       "\n",
       "    .dataframe tbody tr th {\n",
       "        vertical-align: top;\n",
       "    }\n",
       "\n",
       "    .dataframe thead th {\n",
       "        text-align: right;\n",
       "    }\n",
       "</style>\n",
       "<table border=\"1\" class=\"dataframe\">\n",
       "  <thead>\n",
       "    <tr style=\"text-align: right;\">\n",
       "      <th></th>\n",
       "      <th>pay_type_description</th>\n",
       "      <th>total_dollars</th>\n",
       "      <th>total_hours</th>\n",
       "      <th>hourly_rate</th>\n",
       "      <th>is_productive</th>\n",
       "      <th>use_salaries</th>\n",
       "      <th>use_hours</th>\n",
       "    </tr>\n",
       "  </thead>\n",
       "  <tbody>\n",
       "    <tr>\n",
       "      <th>49907</th>\n",
       "      <td>Employee Exp Reimburse-Non tax</td>\n",
       "      <td>0.00</td>\n",
       "      <td>0.00</td>\n",
       "      <td>0.000000</td>\n",
       "      <td>1</td>\n",
       "      <td>0</td>\n",
       "      <td>0</td>\n",
       "    </tr>\n",
       "    <tr>\n",
       "      <th>49908</th>\n",
       "      <td>Holiday - Worked OT Base</td>\n",
       "      <td>20414.23</td>\n",
       "      <td>611.50</td>\n",
       "      <td>33.383859</td>\n",
       "      <td>1</td>\n",
       "      <td>1</td>\n",
       "      <td>1</td>\n",
       "    </tr>\n",
       "    <tr>\n",
       "      <th>49909</th>\n",
       "      <td>WEEKEND DIFFERENTIAL</td>\n",
       "      <td>26.71</td>\n",
       "      <td>0.00</td>\n",
       "      <td>0.000000</td>\n",
       "      <td>1</td>\n",
       "      <td>0</td>\n",
       "      <td>0</td>\n",
       "    </tr>\n",
       "    <tr>\n",
       "      <th>49910</th>\n",
       "      <td>Education-Mandatory</td>\n",
       "      <td>4518.34</td>\n",
       "      <td>66.25</td>\n",
       "      <td>68.201358</td>\n",
       "      <td>0</td>\n",
       "      <td>1</td>\n",
       "      <td>1</td>\n",
       "    </tr>\n",
       "    <tr>\n",
       "      <th>49911</th>\n",
       "      <td>B12 BNS RET 12</td>\n",
       "      <td>5000.00</td>\n",
       "      <td>0.00</td>\n",
       "      <td>0.000000</td>\n",
       "      <td>0</td>\n",
       "      <td>1</td>\n",
       "      <td>0</td>\n",
       "    </tr>\n",
       "  </tbody>\n",
       "</table>\n",
       "</div>"
      ],
      "text/plain": [
       "                 pay_type_description  total_dollars  total_hours  \\\n",
       "49907  Employee Exp Reimburse-Non tax           0.00         0.00   \n",
       "49908        Holiday - Worked OT Base       20414.23       611.50   \n",
       "49909            WEEKEND DIFFERENTIAL          26.71         0.00   \n",
       "49910             Education-Mandatory        4518.34        66.25   \n",
       "49911                  B12 BNS RET 12        5000.00         0.00   \n",
       "\n",
       "       hourly_rate  is_productive  use_salaries  use_hours  \n",
       "49907     0.000000              1             0          0  \n",
       "49908    33.383859              1             1          1  \n",
       "49909     0.000000              1             0          0  \n",
       "49910    68.201358              0             1          1  \n",
       "49911     0.000000              0             1          0  "
      ]
     },
     "execution_count": 9,
     "metadata": {},
     "output_type": "execute_result"
    }
   ],
   "source": [
    "train.tail()"
   ]
  },
  {
   "cell_type": "code",
   "execution_count": 10,
   "metadata": {},
   "outputs": [
    {
     "data": {
      "text/html": [
       "<div>\n",
       "<style scoped>\n",
       "    .dataframe tbody tr th:only-of-type {\n",
       "        vertical-align: middle;\n",
       "    }\n",
       "\n",
       "    .dataframe tbody tr th {\n",
       "        vertical-align: top;\n",
       "    }\n",
       "\n",
       "    .dataframe thead th {\n",
       "        text-align: right;\n",
       "    }\n",
       "</style>\n",
       "<table border=\"1\" class=\"dataframe\">\n",
       "  <thead>\n",
       "    <tr style=\"text-align: right;\">\n",
       "      <th></th>\n",
       "      <th>pay_type_description</th>\n",
       "      <th>total_dollars</th>\n",
       "      <th>total_hours</th>\n",
       "      <th>hourly_rate</th>\n",
       "      <th>is_productive</th>\n",
       "      <th>use_salaries</th>\n",
       "      <th>use_hours</th>\n",
       "    </tr>\n",
       "  </thead>\n",
       "  <tbody>\n",
       "    <tr>\n",
       "      <th>49912</th>\n",
       "      <td>Intermittent PTO</td>\n",
       "      <td>10299.72</td>\n",
       "      <td>186.00</td>\n",
       "      <td>55.374839</td>\n",
       "      <td>0</td>\n",
       "      <td>1</td>\n",
       "      <td>1</td>\n",
       "    </tr>\n",
       "    <tr>\n",
       "      <th>49913</th>\n",
       "      <td>Holiday - Worked DT Base</td>\n",
       "      <td>7508.21</td>\n",
       "      <td>282.50</td>\n",
       "      <td>26.577735</td>\n",
       "      <td>1</td>\n",
       "      <td>1</td>\n",
       "      <td>1</td>\n",
       "    </tr>\n",
       "    <tr>\n",
       "      <th>49914</th>\n",
       "      <td>FAMILY/MEDICAL LEAVE</td>\n",
       "      <td>0.00</td>\n",
       "      <td>0.00</td>\n",
       "      <td>0.000000</td>\n",
       "      <td>0</td>\n",
       "      <td>1</td>\n",
       "      <td>0</td>\n",
       "    </tr>\n",
       "    <tr>\n",
       "      <th>49915</th>\n",
       "      <td>NaN</td>\n",
       "      <td>6219.40</td>\n",
       "      <td>0.00</td>\n",
       "      <td>0.000000</td>\n",
       "      <td>0</td>\n",
       "      <td>0</td>\n",
       "      <td>0</td>\n",
       "    </tr>\n",
       "    <tr>\n",
       "      <th>49916</th>\n",
       "      <td>Auto Allowance</td>\n",
       "      <td>14874.09</td>\n",
       "      <td>52.14</td>\n",
       "      <td>285.272152</td>\n",
       "      <td>0</td>\n",
       "      <td>0</td>\n",
       "      <td>0</td>\n",
       "    </tr>\n",
       "  </tbody>\n",
       "</table>\n",
       "</div>"
      ],
      "text/plain": [
       "           pay_type_description  total_dollars  total_hours  hourly_rate  \\\n",
       "49912          Intermittent PTO       10299.72       186.00    55.374839   \n",
       "49913  Holiday - Worked DT Base        7508.21       282.50    26.577735   \n",
       "49914      FAMILY/MEDICAL LEAVE           0.00         0.00     0.000000   \n",
       "49915                       NaN        6219.40         0.00     0.000000   \n",
       "49916            Auto Allowance       14874.09        52.14   285.272152   \n",
       "\n",
       "       is_productive  use_salaries  use_hours  \n",
       "49912              0             1          1  \n",
       "49913              1             1          1  \n",
       "49914              0             1          0  \n",
       "49915              0             0          0  \n",
       "49916              0             0          0  "
      ]
     },
     "execution_count": 10,
     "metadata": {},
     "output_type": "execute_result"
    }
   ],
   "source": [
    "test = data.iloc[int(total*0.8):]\n",
    "test.head()"
   ]
  },
  {
   "cell_type": "markdown",
   "metadata": {},
   "source": [
    "What if we don't scale the values like we did in `Analysis.ipynb`? Would that give us the same accuracy?  Let's see. "
   ]
  },
  {
   "cell_type": "code",
   "execution_count": 11,
   "metadata": {},
   "outputs": [],
   "source": [
    "train_x = train[[\"total_dollars\", \"total_hours\", \"hourly_rate\"]]\n",
    "valid_x = test[[\"total_dollars\", \"total_hours\", \"hourly_rate\"]]\n",
    "\n",
    "# train_x = train[[\"total_dollars_scaled\"]]\n",
    "# valid_x = test[[\"total_dollars_scaled\"]]\n",
    "\n",
    "train_y_is_productive = train[[\"is_productive\"]]\n",
    "valid_y_is_productive = test.is_productive\n",
    "\n",
    "train_y_use_salaries = train[[\"use_salaries\"]]\n",
    "valid_y_use_salaries = test.use_salaries\n",
    "\n",
    "train_y_use_hours = train[[\"use_hours\"]]\n",
    "valid_y_use_hours = test.use_hours\n",
    "\n",
    "valid_pay_type = test.pay_type_description\n",
    "valid_pay_type = [str(name) for name in valid_pay_type]"
   ]
  },
  {
   "cell_type": "code",
   "execution_count": 12,
   "metadata": {},
   "outputs": [
    {
     "data": {
      "text/html": [
       "<div>\n",
       "<style scoped>\n",
       "    .dataframe tbody tr th:only-of-type {\n",
       "        vertical-align: middle;\n",
       "    }\n",
       "\n",
       "    .dataframe tbody tr th {\n",
       "        vertical-align: top;\n",
       "    }\n",
       "\n",
       "    .dataframe thead th {\n",
       "        text-align: right;\n",
       "    }\n",
       "</style>\n",
       "<table border=\"1\" class=\"dataframe\">\n",
       "  <thead>\n",
       "    <tr style=\"text-align: right;\">\n",
       "      <th></th>\n",
       "      <th>total_dollars</th>\n",
       "      <th>total_hours</th>\n",
       "      <th>hourly_rate</th>\n",
       "    </tr>\n",
       "  </thead>\n",
       "  <tbody>\n",
       "    <tr>\n",
       "      <th>0</th>\n",
       "      <td>25933.28</td>\n",
       "      <td>0.00</td>\n",
       "      <td>0.000000</td>\n",
       "    </tr>\n",
       "    <tr>\n",
       "      <th>1</th>\n",
       "      <td>1021.88</td>\n",
       "      <td>14.25</td>\n",
       "      <td>71.710877</td>\n",
       "    </tr>\n",
       "    <tr>\n",
       "      <th>2</th>\n",
       "      <td>51.20</td>\n",
       "      <td>0.00</td>\n",
       "      <td>0.000000</td>\n",
       "    </tr>\n",
       "    <tr>\n",
       "      <th>3</th>\n",
       "      <td>139169.31</td>\n",
       "      <td>1165.06</td>\n",
       "      <td>119.452483</td>\n",
       "    </tr>\n",
       "    <tr>\n",
       "      <th>4</th>\n",
       "      <td>36287.12</td>\n",
       "      <td>2080.10</td>\n",
       "      <td>17.444892</td>\n",
       "    </tr>\n",
       "  </tbody>\n",
       "</table>\n",
       "</div>"
      ],
      "text/plain": [
       "   total_dollars  total_hours  hourly_rate\n",
       "0       25933.28         0.00     0.000000\n",
       "1        1021.88        14.25    71.710877\n",
       "2          51.20         0.00     0.000000\n",
       "3      139169.31      1165.06   119.452483\n",
       "4       36287.12      2080.10    17.444892"
      ]
     },
     "execution_count": 12,
     "metadata": {},
     "output_type": "execute_result"
    }
   ],
   "source": [
    "train_x.head()"
   ]
  },
  {
   "cell_type": "code",
   "execution_count": 13,
   "metadata": {},
   "outputs": [
    {
     "data": {
      "text/html": [
       "<div>\n",
       "<style scoped>\n",
       "    .dataframe tbody tr th:only-of-type {\n",
       "        vertical-align: middle;\n",
       "    }\n",
       "\n",
       "    .dataframe tbody tr th {\n",
       "        vertical-align: top;\n",
       "    }\n",
       "\n",
       "    .dataframe thead th {\n",
       "        text-align: right;\n",
       "    }\n",
       "</style>\n",
       "<table border=\"1\" class=\"dataframe\">\n",
       "  <thead>\n",
       "    <tr style=\"text-align: right;\">\n",
       "      <th></th>\n",
       "      <th>total_dollars</th>\n",
       "      <th>total_hours</th>\n",
       "      <th>hourly_rate</th>\n",
       "    </tr>\n",
       "  </thead>\n",
       "  <tbody>\n",
       "    <tr>\n",
       "      <th>49912</th>\n",
       "      <td>10299.72</td>\n",
       "      <td>186.00</td>\n",
       "      <td>55.374839</td>\n",
       "    </tr>\n",
       "    <tr>\n",
       "      <th>49913</th>\n",
       "      <td>7508.21</td>\n",
       "      <td>282.50</td>\n",
       "      <td>26.577735</td>\n",
       "    </tr>\n",
       "    <tr>\n",
       "      <th>49914</th>\n",
       "      <td>0.00</td>\n",
       "      <td>0.00</td>\n",
       "      <td>0.000000</td>\n",
       "    </tr>\n",
       "    <tr>\n",
       "      <th>49915</th>\n",
       "      <td>6219.40</td>\n",
       "      <td>0.00</td>\n",
       "      <td>0.000000</td>\n",
       "    </tr>\n",
       "    <tr>\n",
       "      <th>49916</th>\n",
       "      <td>14874.09</td>\n",
       "      <td>52.14</td>\n",
       "      <td>285.272152</td>\n",
       "    </tr>\n",
       "  </tbody>\n",
       "</table>\n",
       "</div>"
      ],
      "text/plain": [
       "       total_dollars  total_hours  hourly_rate\n",
       "49912       10299.72       186.00    55.374839\n",
       "49913        7508.21       282.50    26.577735\n",
       "49914           0.00         0.00     0.000000\n",
       "49915        6219.40         0.00     0.000000\n",
       "49916       14874.09        52.14   285.272152"
      ]
     },
     "execution_count": 13,
     "metadata": {},
     "output_type": "execute_result"
    }
   ],
   "source": [
    "valid_x.head()"
   ]
  },
  {
   "cell_type": "markdown",
   "metadata": {},
   "source": [
    "# Random Forest"
   ]
  },
  {
   "cell_type": "code",
   "execution_count": 14,
   "metadata": {},
   "outputs": [],
   "source": [
    "from sklearn.ensemble import RandomForestRegressor\n",
    "import pickle"
   ]
  },
  {
   "cell_type": "code",
   "execution_count": 15,
   "metadata": {},
   "outputs": [],
   "source": [
    "def rf_train(category, rf):\n",
    "    \n",
    "    # We assume hyperparameters are already initialized in rf\n",
    "    # Training \n",
    "    print(\"Category: \", str(category))\n",
    "    print(\"Training...\")\n",
    "    \n",
    "    if category == \"is_productive\":\n",
    "        rf.fit(train_x, train_y_is_productive)\n",
    "    elif category == \"use_salaries\":\n",
    "        rf.fit(train_x, train_y_use_salaries)\n",
    "    elif category == \"use_hours\":\n",
    "        rf.fit(train_x, train_y_use_hours)\n",
    "    else:\n",
    "        print(\"ERROR: Input Category Not Recognized!\")\n",
    "        return \n",
    "        \n",
    "    print(\"Training completed!\")\n",
    "\n",
    "    # Predicting \n",
    "    print(\"Predicting...\")\n",
    "    pred = rf.predict(valid_x)\n",
    "    train_pred = rf.predict(train_x)\n",
    "\n",
    "    pred = pred.reshape((len(pred), ))\n",
    "    train_pred = train_pred.reshape((len(train_pred), ))\n",
    "\n",
    "    pred = [round(x) for x in pred]\n",
    "    train_pred = [round(x) for x in train_pred]\n",
    "    print(\"Prediction Completed! \")\n",
    "    \n",
    "    # Printing Results\n",
    "    if category == \"is_productive\":\n",
    "        count = 0\n",
    "        for i in range(len(train_pred)):\n",
    "            if train_pred[i] == train_y_is_productive.is_productive[i]:\n",
    "                count += 1\n",
    "        print(\"Training Accuracy = \", str(count / len(train_pred)))\n",
    "\n",
    "        count = 0\n",
    "        vy = list(valid_y_is_productive)\n",
    "        for i in range(len(valid_x)):\n",
    "            if pred[i] == vy[i]:\n",
    "                count += 1\n",
    "        print(\"Testing Accuracy = \", str(count / len(valid_x)))\n",
    "    \n",
    "    elif category == \"use_salaries\":\n",
    "        count = 0\n",
    "        for i in range(len(train_pred)):\n",
    "            if train_pred[i] == train_y_use_salaries.use_salaries[i]:\n",
    "                count += 1\n",
    "        print(\"Training Accuracy = \", str(count / len(train_pred)))\n",
    "\n",
    "        count = 0\n",
    "        vy = list(valid_y_use_salaries)\n",
    "        for i in range(len(valid_x)):\n",
    "            if pred[i] == vy[i]:\n",
    "                count += 1\n",
    "        print(\"Testing Accuracy = \", str(count / len(valid_x)))\n",
    "    \n",
    "    elif category == \"use_hours\": \n",
    "        count = 0\n",
    "        for i in range(len(train_pred)):\n",
    "            if train_pred[i] == train_y_use_hours.use_hours[i]:\n",
    "                count += 1\n",
    "        print(\"Training Accuracy = \", str(count / len(train_pred)))\n",
    "\n",
    "        count = 0\n",
    "        vy = list(valid_y_use_hours)\n",
    "        for i in range(len(valid_x)):\n",
    "            if pred[i] == vy[i]:\n",
    "                count += 1\n",
    "        print(\"Testing Accuracy = \", str(count / len(valid_x)))\n",
    "    \n",
    "    # Saving Models to /Flask/models\n",
    "    pickle.dump(rf, open('../Flask/models/RandomForest_' + category + '.pkl', 'wb'))\n",
    "    print(\"Model saved at ../Flask/models/RandomForest_\"+ category + \".pkl\", )"
   ]
  },
  {
   "cell_type": "code",
   "execution_count": 16,
   "metadata": {},
   "outputs": [
    {
     "name": "stdout",
     "output_type": "stream",
     "text": [
      "Category:  use_hours\n",
      "Training...\n"
     ]
    },
    {
     "name": "stderr",
     "output_type": "stream",
     "text": [
      "/Users/changyuyan/anaconda3/lib/python3.7/site-packages/ipykernel_launcher.py:13: DataConversionWarning: A column-vector y was passed when a 1d array was expected. Please change the shape of y to (n_samples,), for example using ravel().\n",
      "  del sys.path[0]\n"
     ]
    },
    {
     "name": "stdout",
     "output_type": "stream",
     "text": [
      "Training completed!\n",
      "Predicting...\n",
      "Prediction Completed! \n",
      "Training Accuracy =  0.8773841961852861\n",
      "Testing Accuracy =  0.8533536341052969\n",
      "Model saved at ../Flask/models/RandomForest_use_hours.pkl\n"
     ]
    }
   ],
   "source": [
    "rf_use_hours = RandomForestRegressor(max_depth = 15, n_estimators = 25)\n",
    "rf_train(\"use_hours\", rf_use_hours)"
   ]
  },
  {
   "cell_type": "code",
   "execution_count": 17,
   "metadata": {},
   "outputs": [
    {
     "name": "stdout",
     "output_type": "stream",
     "text": [
      "Category:  use_salaries\n",
      "Training...\n"
     ]
    },
    {
     "name": "stderr",
     "output_type": "stream",
     "text": [
      "/Users/changyuyan/anaconda3/lib/python3.7/site-packages/ipykernel_launcher.py:11: DataConversionWarning: A column-vector y was passed when a 1d array was expected. Please change the shape of y to (n_samples,), for example using ravel().\n",
      "  # This is added back by InteractiveShellApp.init_path()\n"
     ]
    },
    {
     "name": "stdout",
     "output_type": "stream",
     "text": [
      "Training completed!\n",
      "Predicting...\n",
      "Prediction Completed! \n",
      "Training Accuracy =  0.9262301650905593\n",
      "Testing Accuracy =  0.8982290247615995\n",
      "Model saved at ../Flask/models/RandomForest_use_salaries.pkl\n"
     ]
    }
   ],
   "source": [
    "rf_use_salaries = RandomForestRegressor(max_depth = 20, n_estimators = 50)\n",
    "rf_train(\"use_salaries\", rf_use_salaries)"
   ]
  },
  {
   "cell_type": "code",
   "execution_count": 18,
   "metadata": {},
   "outputs": [
    {
     "name": "stdout",
     "output_type": "stream",
     "text": [
      "Category:  is_productive\n",
      "Training...\n"
     ]
    },
    {
     "name": "stderr",
     "output_type": "stream",
     "text": [
      "/Users/changyuyan/anaconda3/lib/python3.7/site-packages/ipykernel_launcher.py:9: DataConversionWarning: A column-vector y was passed when a 1d array was expected. Please change the shape of y to (n_samples,), for example using ravel().\n",
      "  if __name__ == '__main__':\n"
     ]
    },
    {
     "name": "stdout",
     "output_type": "stream",
     "text": [
      "Training completed!\n",
      "Predicting...\n",
      "Prediction Completed! \n",
      "Training Accuracy =  0.6920379868568681\n",
      "Testing Accuracy =  0.6692843977882843\n",
      "Model saved at ../Flask/models/RandomForest_is_productive.pkl\n"
     ]
    }
   ],
   "source": [
    "rf_is_produtive = RandomForestRegressor(max_depth = 10, n_estimators = 20)\n",
    "rf_train(\"is_productive\", rf_is_produtive)"
   ]
  },
  {
   "cell_type": "code",
   "execution_count": 19,
   "metadata": {},
   "outputs": [
    {
     "name": "stdout",
     "output_type": "stream",
     "text": [
      "README.md                       RandomForest_use_salaries.pkl\r\n",
      "RandomForest_is_productive.pkl  generate_models.py\r\n",
      "RandomForest_use_hours.pkl\r\n"
     ]
    }
   ],
   "source": [
    "ls ../Flask/models"
   ]
  },
  {
   "cell_type": "markdown",
   "metadata": {},
   "source": [
    "-----\n",
    "\n",
    "# Enhancement - Adding String Classifier "
   ]
  },
  {
   "cell_type": "code",
   "execution_count": 20,
   "metadata": {},
   "outputs": [
    {
     "name": "stdout",
     "output_type": "stream",
     "text": [
      "README.md                       paycode_data.xlsx\r\n",
      "paycode_clean_string_only.xlsx  paycode_first_clean.xlsx\r\n"
     ]
    }
   ],
   "source": [
    "ls data"
   ]
  },
  {
   "cell_type": "code",
   "execution_count": 21,
   "metadata": {
    "scrolled": false
   },
   "outputs": [
    {
     "data": {
      "text/html": [
       "<div>\n",
       "<style scoped>\n",
       "    .dataframe tbody tr th:only-of-type {\n",
       "        vertical-align: middle;\n",
       "    }\n",
       "\n",
       "    .dataframe tbody tr th {\n",
       "        vertical-align: top;\n",
       "    }\n",
       "\n",
       "    .dataframe thead th {\n",
       "        text-align: right;\n",
       "    }\n",
       "</style>\n",
       "<table border=\"1\" class=\"dataframe\">\n",
       "  <thead>\n",
       "    <tr style=\"text-align: right;\">\n",
       "      <th></th>\n",
       "      <th>pay_type_description</th>\n",
       "      <th>cr255210db1_pay_pay_types.is_productive</th>\n",
       "      <th>cr255210db1_pay_pay_types.use_salaries</th>\n",
       "      <th>cr255210db1_pay_pay_types.use_hours</th>\n",
       "    </tr>\n",
       "  </thead>\n",
       "  <tbody>\n",
       "    <tr>\n",
       "      <th>0</th>\n",
       "      <td>0</td>\n",
       "      <td>0</td>\n",
       "      <td>1.0</td>\n",
       "      <td>0</td>\n",
       "    </tr>\n",
       "    <tr>\n",
       "      <th>1</th>\n",
       "      <td>TrainingEduOTPremDly</td>\n",
       "      <td>1</td>\n",
       "      <td>1.0</td>\n",
       "      <td>0</td>\n",
       "    </tr>\n",
       "    <tr>\n",
       "      <th>2</th>\n",
       "      <td>$ ADJ</td>\n",
       "      <td>0</td>\n",
       "      <td>1.0</td>\n",
       "      <td>0</td>\n",
       "    </tr>\n",
       "    <tr>\n",
       "      <th>3</th>\n",
       "      <td>$ BONUS</td>\n",
       "      <td>0</td>\n",
       "      <td>1.0</td>\n",
       "      <td>0</td>\n",
       "    </tr>\n",
       "    <tr>\n",
       "      <th>4</th>\n",
       "      <td>$ BONUS CERTIFIED</td>\n",
       "      <td>0</td>\n",
       "      <td>1.0</td>\n",
       "      <td>0</td>\n",
       "    </tr>\n",
       "  </tbody>\n",
       "</table>\n",
       "</div>"
      ],
      "text/plain": [
       "    pay_type_description  cr255210db1_pay_pay_types.is_productive  \\\n",
       "0                      0                                        0   \n",
       "1   TrainingEduOTPremDly                                        1   \n",
       "2                  $ ADJ                                        0   \n",
       "3                $ BONUS                                        0   \n",
       "4      $ BONUS CERTIFIED                                        0   \n",
       "\n",
       "   cr255210db1_pay_pay_types.use_salaries  cr255210db1_pay_pay_types.use_hours  \n",
       "0                                     1.0                                    0  \n",
       "1                                     1.0                                    0  \n",
       "2                                     1.0                                    0  \n",
       "3                                     1.0                                    0  \n",
       "4                                     1.0                                    0  "
      ]
     },
     "execution_count": 21,
     "metadata": {},
     "output_type": "execute_result"
    }
   ],
   "source": [
    "pay_type_des_df = pd.read_excel('data/paycode_clean_string_only.xlsx')\n",
    "pay_type_des_df.head()"
   ]
  },
  {
   "cell_type": "code",
   "execution_count": 22,
   "metadata": {},
   "outputs": [],
   "source": [
    "pay_type_des_df.columns = ['pay_type_description', 'is_productive', 'use_salaries', 'use_hours']"
   ]
  },
  {
   "cell_type": "code",
   "execution_count": 23,
   "metadata": {},
   "outputs": [],
   "source": [
    "pay_type_des_df[\"pay_type_description\"] = pay_type_des_df[\"pay_type_description\"].str.upper()"
   ]
  },
  {
   "cell_type": "code",
   "execution_count": 24,
   "metadata": {},
   "outputs": [
    {
     "data": {
      "text/html": [
       "<div>\n",
       "<style scoped>\n",
       "    .dataframe tbody tr th:only-of-type {\n",
       "        vertical-align: middle;\n",
       "    }\n",
       "\n",
       "    .dataframe tbody tr th {\n",
       "        vertical-align: top;\n",
       "    }\n",
       "\n",
       "    .dataframe thead th {\n",
       "        text-align: right;\n",
       "    }\n",
       "</style>\n",
       "<table border=\"1\" class=\"dataframe\">\n",
       "  <thead>\n",
       "    <tr style=\"text-align: right;\">\n",
       "      <th></th>\n",
       "      <th>pay_type_description</th>\n",
       "      <th>is_productive</th>\n",
       "      <th>use_salaries</th>\n",
       "      <th>use_hours</th>\n",
       "    </tr>\n",
       "  </thead>\n",
       "  <tbody>\n",
       "    <tr>\n",
       "      <th>0</th>\n",
       "      <td>NaN</td>\n",
       "      <td>0</td>\n",
       "      <td>1.0</td>\n",
       "      <td>0</td>\n",
       "    </tr>\n",
       "    <tr>\n",
       "      <th>1</th>\n",
       "      <td>TRAININGEDUOTPREMDLY</td>\n",
       "      <td>1</td>\n",
       "      <td>1.0</td>\n",
       "      <td>0</td>\n",
       "    </tr>\n",
       "    <tr>\n",
       "      <th>2</th>\n",
       "      <td>$ ADJ</td>\n",
       "      <td>0</td>\n",
       "      <td>1.0</td>\n",
       "      <td>0</td>\n",
       "    </tr>\n",
       "    <tr>\n",
       "      <th>3</th>\n",
       "      <td>$ BONUS</td>\n",
       "      <td>0</td>\n",
       "      <td>1.0</td>\n",
       "      <td>0</td>\n",
       "    </tr>\n",
       "    <tr>\n",
       "      <th>4</th>\n",
       "      <td>$ BONUS CERTIFIED</td>\n",
       "      <td>0</td>\n",
       "      <td>1.0</td>\n",
       "      <td>0</td>\n",
       "    </tr>\n",
       "  </tbody>\n",
       "</table>\n",
       "</div>"
      ],
      "text/plain": [
       "    pay_type_description  is_productive  use_salaries  use_hours\n",
       "0                    NaN              0           1.0          0\n",
       "1   TRAININGEDUOTPREMDLY              1           1.0          0\n",
       "2                  $ ADJ              0           1.0          0\n",
       "3                $ BONUS              0           1.0          0\n",
       "4      $ BONUS CERTIFIED              0           1.0          0"
      ]
     },
     "execution_count": 24,
     "metadata": {},
     "output_type": "execute_result"
    }
   ],
   "source": [
    "pay_type_des_df.head()"
   ]
  },
  {
   "cell_type": "code",
   "execution_count": 25,
   "metadata": {},
   "outputs": [],
   "source": [
    "import math"
   ]
  },
  {
   "cell_type": "code",
   "execution_count": 26,
   "metadata": {},
   "outputs": [
    {
     "name": "stdout",
     "output_type": "stream",
     "text": [
      "Got one\n",
      "Got one\n",
      "Got one\n",
      "Got one\n",
      "Got one\n",
      "Got one\n",
      "Got one\n",
      "Got one\n"
     ]
    }
   ],
   "source": [
    "for index, row in pay_type_des_df.iterrows():\n",
    "    if type(row.pay_type_description) == float and math.isnan(row.pay_type_description):\n",
    "        print(\"Got one\")"
   ]
  },
  {
   "cell_type": "code",
   "execution_count": 27,
   "metadata": {},
   "outputs": [],
   "source": [
    "string_classifier = {}\n",
    "for index, row in pay_type_des_df.iterrows():\n",
    "    if type(row.pay_type_description) == float and math.isnan(row.pay_type_description):\n",
    "        continue\n",
    "    string_classifier[str(row.pay_type_description)] = {'is_productive': row.is_productive, \n",
    "                                                   'use_salaries': row.use_salaries, \n",
    "                                                   'use_hours': row.use_hours}"
   ]
  },
  {
   "cell_type": "code",
   "execution_count": 28,
   "metadata": {
    "scrolled": true
   },
   "outputs": [
    {
     "data": {
      "text/html": [
       "<div>\n",
       "<style scoped>\n",
       "    .dataframe tbody tr th:only-of-type {\n",
       "        vertical-align: middle;\n",
       "    }\n",
       "\n",
       "    .dataframe tbody tr th {\n",
       "        vertical-align: top;\n",
       "    }\n",
       "\n",
       "    .dataframe thead th {\n",
       "        text-align: right;\n",
       "    }\n",
       "</style>\n",
       "<table border=\"1\" class=\"dataframe\">\n",
       "  <thead>\n",
       "    <tr style=\"text-align: right;\">\n",
       "      <th></th>\n",
       "      <th>pay_type_description</th>\n",
       "      <th>total_dollars</th>\n",
       "      <th>total_hours</th>\n",
       "      <th>hourly_rate</th>\n",
       "      <th>is_productive</th>\n",
       "      <th>use_salaries</th>\n",
       "      <th>use_hours</th>\n",
       "    </tr>\n",
       "  </thead>\n",
       "  <tbody>\n",
       "    <tr>\n",
       "      <th>49912</th>\n",
       "      <td>Intermittent PTO</td>\n",
       "      <td>10299.72</td>\n",
       "      <td>186.00</td>\n",
       "      <td>55.374839</td>\n",
       "      <td>0</td>\n",
       "      <td>1</td>\n",
       "      <td>1</td>\n",
       "    </tr>\n",
       "    <tr>\n",
       "      <th>49913</th>\n",
       "      <td>Holiday - Worked DT Base</td>\n",
       "      <td>7508.21</td>\n",
       "      <td>282.50</td>\n",
       "      <td>26.577735</td>\n",
       "      <td>1</td>\n",
       "      <td>1</td>\n",
       "      <td>1</td>\n",
       "    </tr>\n",
       "    <tr>\n",
       "      <th>49914</th>\n",
       "      <td>FAMILY/MEDICAL LEAVE</td>\n",
       "      <td>0.00</td>\n",
       "      <td>0.00</td>\n",
       "      <td>0.000000</td>\n",
       "      <td>0</td>\n",
       "      <td>1</td>\n",
       "      <td>0</td>\n",
       "    </tr>\n",
       "    <tr>\n",
       "      <th>49915</th>\n",
       "      <td>NaN</td>\n",
       "      <td>6219.40</td>\n",
       "      <td>0.00</td>\n",
       "      <td>0.000000</td>\n",
       "      <td>0</td>\n",
       "      <td>0</td>\n",
       "      <td>0</td>\n",
       "    </tr>\n",
       "    <tr>\n",
       "      <th>49916</th>\n",
       "      <td>Auto Allowance</td>\n",
       "      <td>14874.09</td>\n",
       "      <td>52.14</td>\n",
       "      <td>285.272152</td>\n",
       "      <td>0</td>\n",
       "      <td>0</td>\n",
       "      <td>0</td>\n",
       "    </tr>\n",
       "  </tbody>\n",
       "</table>\n",
       "</div>"
      ],
      "text/plain": [
       "           pay_type_description  total_dollars  total_hours  hourly_rate  \\\n",
       "49912          Intermittent PTO       10299.72       186.00    55.374839   \n",
       "49913  Holiday - Worked DT Base        7508.21       282.50    26.577735   \n",
       "49914      FAMILY/MEDICAL LEAVE           0.00         0.00     0.000000   \n",
       "49915                       NaN        6219.40         0.00     0.000000   \n",
       "49916            Auto Allowance       14874.09        52.14   285.272152   \n",
       "\n",
       "       is_productive  use_salaries  use_hours  \n",
       "49912              0             1          1  \n",
       "49913              1             1          1  \n",
       "49914              0             1          0  \n",
       "49915              0             0          0  \n",
       "49916              0             0          0  "
      ]
     },
     "execution_count": 28,
     "metadata": {},
     "output_type": "execute_result"
    }
   ],
   "source": [
    "test.head()"
   ]
  },
  {
   "cell_type": "code",
   "execution_count": 29,
   "metadata": {},
   "outputs": [],
   "source": [
    "def rf_train_with_string_classifier(category, rf):\n",
    "    # We assume hyperparameters are already initialized in rf\n",
    "    # Training \n",
    "    print(\"Category: \", str(category))\n",
    "    print(\"Training...\")\n",
    "    \n",
    "    if category == \"is_productive\":\n",
    "        rf.fit(train_x, train_y_is_productive)\n",
    "    elif category == \"use_salaries\":\n",
    "        rf.fit(train_x, train_y_use_salaries)\n",
    "    elif category == \"use_hours\":\n",
    "        rf.fit(train_x, train_y_use_hours)\n",
    "    else:\n",
    "        print(\"ERROR: Input Category Not Recognized!\")\n",
    "        return \n",
    "        \n",
    "    print(\"Training completed!\")\n",
    "\n",
    "    # Predicting \n",
    "    print(\"Predicting...\")\n",
    "    pred = rf.predict(valid_x)\n",
    "    train_pred = rf.predict(train_x)\n",
    "\n",
    "    pred = pred.reshape((len(pred), ))\n",
    "    train_pred = train_pred.reshape((len(train_pred), ))\n",
    "    \n",
    "    pred = [round(x) for x in pred]\n",
    "    pred_len = len(pred)\n",
    "    for i in range(pred_len):\n",
    "        name = str.upper(valid_pay_type[i])\n",
    "        if name in string_classifier:\n",
    "            if category == \"is_productive\":\n",
    "                pred[i] = string_classifier[name]['is_productive']\n",
    "            elif category == \"use_salaries\":\n",
    "                pred[i] = string_classifier[name]['use_salaries']\n",
    "            elif category == \"use_hours\":\n",
    "                pred[i] == string_classifier[name]['use_hours']\n",
    "    \n",
    "    train_pred = [round(x) for x in train_pred]\n",
    "    print(\"Prediction Completed! \")\n",
    "    \n",
    "    # Printing Results\n",
    "    if category == \"is_productive\":\n",
    "        count = 0\n",
    "        for i in range(len(train_pred)):\n",
    "            if train_pred[i] == train_y_is_productive.is_productive[i]:\n",
    "                count += 1\n",
    "        print(\"Training Accuracy = \", str(count / len(train_pred)))\n",
    "\n",
    "        count = 0\n",
    "        vy = list(valid_y_is_productive)\n",
    "        for i in range(len(valid_x)):\n",
    "            if pred[i] == vy[i]:\n",
    "                count += 1\n",
    "        print(\"Testing Accuracy = \", str(count / len(valid_x)))\n",
    "    \n",
    "    elif category == \"use_salaries\":\n",
    "        count = 0\n",
    "        for i in range(len(train_pred)):\n",
    "            if train_pred[i] == train_y_use_salaries.use_salaries[i]:\n",
    "                count += 1\n",
    "        print(\"Training Accuracy = \", str(count / len(train_pred)))\n",
    "\n",
    "        count = 0\n",
    "        vy = list(valid_y_use_salaries)\n",
    "        for i in range(len(valid_x)):\n",
    "            if pred[i] == vy[i]:\n",
    "                count += 1\n",
    "        print(\"Testing Accuracy = \", str(count / len(valid_x)))\n",
    "    \n",
    "    elif category == \"use_hours\": \n",
    "        count = 0\n",
    "        for i in range(len(train_pred)):\n",
    "            if train_pred[i] == train_y_use_hours.use_hours[i]:\n",
    "                count += 1\n",
    "        print(\"Training Accuracy = \", str(count / len(train_pred)))\n",
    "\n",
    "        count = 0\n",
    "        vy = list(valid_y_use_hours)\n",
    "        for i in range(len(valid_x)):\n",
    "            if pred[i] == vy[i]:\n",
    "                count += 1\n",
    "        print(\"Testing Accuracy = \", str(count / len(valid_x)))\n",
    "    \n",
    "    # Saving Models to /Flask/models\n",
    "    pickle.dump(rf, open('../Flask/models/RandomForest_' + category + '.pkl', 'wb'))\n",
    "    print(\"Model saved at ../Flask/models/RandomForest_\"+ category + \".pkl\", )"
   ]
  },
  {
   "cell_type": "code",
   "execution_count": 30,
   "metadata": {
    "scrolled": false
   },
   "outputs": [
    {
     "name": "stdout",
     "output_type": "stream",
     "text": [
      "Category:  use_hours\n",
      "Training...\n"
     ]
    },
    {
     "name": "stderr",
     "output_type": "stream",
     "text": [
      "/Users/changyuyan/anaconda3/lib/python3.7/site-packages/ipykernel_launcher.py:12: DataConversionWarning: A column-vector y was passed when a 1d array was expected. Please change the shape of y to (n_samples,), for example using ravel().\n",
      "  if sys.path[0] == '':\n"
     ]
    },
    {
     "name": "stdout",
     "output_type": "stream",
     "text": [
      "Training completed!\n",
      "Predicting...\n",
      "Prediction Completed! \n",
      "Training Accuracy =  0.8764625741304696\n",
      "Testing Accuracy =  0.8529529609744371\n",
      "Model saved at ../Flask/models/RandomForest_use_hours.pkl\n"
     ]
    }
   ],
   "source": [
    "rf_use_hours = RandomForestRegressor(max_depth = 15, n_estimators = 25)\n",
    "rf_train_with_string_classifier(\"use_hours\", rf_use_hours)"
   ]
  },
  {
   "cell_type": "code",
   "execution_count": 31,
   "metadata": {},
   "outputs": [
    {
     "name": "stdout",
     "output_type": "stream",
     "text": [
      "Category:  use_salaries\n",
      "Training...\n"
     ]
    },
    {
     "name": "stderr",
     "output_type": "stream",
     "text": [
      "/Users/changyuyan/anaconda3/lib/python3.7/site-packages/ipykernel_launcher.py:10: DataConversionWarning: A column-vector y was passed when a 1d array was expected. Please change the shape of y to (n_samples,), for example using ravel().\n",
      "  # Remove the CWD from sys.path while we load stuff.\n"
     ]
    },
    {
     "name": "stdout",
     "output_type": "stream",
     "text": [
      "Training completed!\n",
      "Predicting...\n",
      "Prediction Completed! \n",
      "Training Accuracy =  0.9257092482769674\n",
      "Testing Accuracy =  0.9281192403237439\n",
      "Model saved at ../Flask/models/RandomForest_use_salaries.pkl\n"
     ]
    }
   ],
   "source": [
    "rf_use_salaries = RandomForestRegressor(max_depth = 20, n_estimators = 50)\n",
    "rf_train_with_string_classifier(\"use_salaries\", rf_use_salaries)"
   ]
  },
  {
   "cell_type": "code",
   "execution_count": 32,
   "metadata": {},
   "outputs": [
    {
     "name": "stdout",
     "output_type": "stream",
     "text": [
      "Category:  is_productive\n",
      "Training...\n"
     ]
    },
    {
     "name": "stderr",
     "output_type": "stream",
     "text": [
      "/Users/changyuyan/anaconda3/lib/python3.7/site-packages/ipykernel_launcher.py:8: DataConversionWarning: A column-vector y was passed when a 1d array was expected. Please change the shape of y to (n_samples,), for example using ravel().\n",
      "  \n"
     ]
    },
    {
     "name": "stdout",
     "output_type": "stream",
     "text": [
      "Training completed!\n",
      "Predicting...\n",
      "Prediction Completed! \n",
      "Training Accuracy =  0.6936408078217663\n",
      "Testing Accuracy =  0.8012661270935171\n",
      "Model saved at ../Flask/models/RandomForest_is_productive.pkl\n"
     ]
    }
   ],
   "source": [
    "rf_is_produtive = RandomForestRegressor(max_depth = 10, n_estimators = 20)\n",
    "rf_train_with_string_classifier(\"is_productive\", rf_is_produtive)"
   ]
  },
  {
   "cell_type": "markdown",
   "metadata": {},
   "source": [
    "So the accuracy does increase with our string classifier! Great! "
   ]
  },
  {
   "cell_type": "code",
   "execution_count": 33,
   "metadata": {},
   "outputs": [],
   "source": [
    "# Saving the string classifer \n",
    "pickle.dump(string_classifier, open('../Flask/models/string_classifier.pkl', 'wb'))"
   ]
  },
  {
   "cell_type": "code",
   "execution_count": null,
   "metadata": {},
   "outputs": [],
   "source": []
  }
 ],
 "metadata": {
  "kernelspec": {
   "display_name": "Python 3",
   "language": "python",
   "name": "python3"
  },
  "language_info": {
   "codemirror_mode": {
    "name": "ipython",
    "version": 3
   },
   "file_extension": ".py",
   "mimetype": "text/x-python",
   "name": "python",
   "nbconvert_exporter": "python",
   "pygments_lexer": "ipython3",
   "version": "3.7.3"
  }
 },
 "nbformat": 4,
 "nbformat_minor": 2
}
