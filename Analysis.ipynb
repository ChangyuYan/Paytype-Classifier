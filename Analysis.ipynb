{
 "cells": [
  {
   "cell_type": "markdown",
   "metadata": {},
   "source": [
    "# Payment Classification"
   ]
  },
  {
   "cell_type": "markdown",
   "metadata": {},
   "source": [
    "The goal of this project is trying to build an algorithm to automatically test if a given payment information description belongs to the following three categories respectively: `is_productive`, `use_salaries`, and `use_hours`. These categories are independent, which means a specific payment can belong to more than one categories. "
   ]
  },
  {
   "cell_type": "code",
   "execution_count": 2,
   "metadata": {
    "scrolled": false
   },
   "outputs": [
    {
     "name": "stdout",
     "output_type": "stream",
     "text": [
      "README.md          paycode_data.xlsx\r\n"
     ]
    }
   ],
   "source": [
    "ls data"
   ]
  },
  {
   "cell_type": "code",
   "execution_count": 4,
   "metadata": {},
   "outputs": [],
   "source": [
    "import pandas as pd\n",
    "import numpy as np\n",
    "import matplotlib.pyplot as plt"
   ]
  },
  {
   "cell_type": "markdown",
   "metadata": {},
   "source": [
    "# Step 1 - Data Preprocessing"
   ]
  },
  {
   "cell_type": "markdown",
   "metadata": {},
   "source": [
    "Read Data: "
   ]
  },
  {
   "cell_type": "code",
   "execution_count": 9,
   "metadata": {
    "scrolled": false
   },
   "outputs": [
    {
     "data": {
      "text/html": [
       "<div>\n",
       "<style scoped>\n",
       "    .dataframe tbody tr th:only-of-type {\n",
       "        vertical-align: middle;\n",
       "    }\n",
       "\n",
       "    .dataframe tbody tr th {\n",
       "        vertical-align: top;\n",
       "    }\n",
       "\n",
       "    .dataframe thead th {\n",
       "        text-align: right;\n",
       "    }\n",
       "</style>\n",
       "<table border=\"1\" class=\"dataframe\">\n",
       "  <thead>\n",
       "    <tr style=\"text-align: right;\">\n",
       "      <th></th>\n",
       "      <th>report_id</th>\n",
       "      <th>pay_type_id</th>\n",
       "      <th>pay_type_description</th>\n",
       "      <th>Total_Dollars</th>\n",
       "      <th>Total_Hours</th>\n",
       "      <th>Hourly Rate</th>\n",
       "      <th>cr255210db1_pay_pay_types.is_productive</th>\n",
       "      <th>cr255210db1_pay_pay_types.use_salaries</th>\n",
       "      <th>cr255210db1_pay_pay_types.use_hours</th>\n",
       "    </tr>\n",
       "  </thead>\n",
       "  <tbody>\n",
       "    <tr>\n",
       "      <th>0</th>\n",
       "      <td>87</td>\n",
       "      <td>101</td>\n",
       "      <td>MISC-REGULAR</td>\n",
       "      <td>93339554.0</td>\n",
       "      <td>2679091.0</td>\n",
       "      <td>34.840009</td>\n",
       "      <td>1</td>\n",
       "      <td>1</td>\n",
       "      <td>1</td>\n",
       "    </tr>\n",
       "    <tr>\n",
       "      <th>1</th>\n",
       "      <td>87</td>\n",
       "      <td>102</td>\n",
       "      <td>MISC-SICK PAY</td>\n",
       "      <td>5258853.0</td>\n",
       "      <td>158087.0</td>\n",
       "      <td>33.265563</td>\n",
       "      <td>0</td>\n",
       "      <td>1</td>\n",
       "      <td>1</td>\n",
       "    </tr>\n",
       "    <tr>\n",
       "      <th>2</th>\n",
       "      <td>87</td>\n",
       "      <td>104</td>\n",
       "      <td>MISC-VACATION</td>\n",
       "      <td>6710429.0</td>\n",
       "      <td>196136.0</td>\n",
       "      <td>34.213143</td>\n",
       "      <td>0</td>\n",
       "      <td>1</td>\n",
       "      <td>1</td>\n",
       "    </tr>\n",
       "    <tr>\n",
       "      <th>3</th>\n",
       "      <td>87</td>\n",
       "      <td>105</td>\n",
       "      <td>MISC-OTHER TIMEOFF</td>\n",
       "      <td>10103587.0</td>\n",
       "      <td>289865.0</td>\n",
       "      <td>34.856181</td>\n",
       "      <td>0</td>\n",
       "      <td>1</td>\n",
       "      <td>1</td>\n",
       "    </tr>\n",
       "    <tr>\n",
       "      <th>4</th>\n",
       "      <td>87</td>\n",
       "      <td>201</td>\n",
       "      <td>UNIFORM-REGULAR</td>\n",
       "      <td>5080.0</td>\n",
       "      <td>180.0</td>\n",
       "      <td>28.222222</td>\n",
       "      <td>1</td>\n",
       "      <td>1</td>\n",
       "      <td>1</td>\n",
       "    </tr>\n",
       "  </tbody>\n",
       "</table>\n",
       "</div>"
      ],
      "text/plain": [
       "   report_id pay_type_id pay_type_description  Total_Dollars  Total_Hours  \\\n",
       "0         87         101         MISC-REGULAR     93339554.0    2679091.0   \n",
       "1         87         102        MISC-SICK PAY      5258853.0     158087.0   \n",
       "2         87         104        MISC-VACATION      6710429.0     196136.0   \n",
       "3         87         105   MISC-OTHER TIMEOFF     10103587.0     289865.0   \n",
       "4         87         201      UNIFORM-REGULAR         5080.0        180.0   \n",
       "\n",
       "   Hourly Rate  cr255210db1_pay_pay_types.is_productive  \\\n",
       "0    34.840009                                        1   \n",
       "1    33.265563                                        0   \n",
       "2    34.213143                                        0   \n",
       "3    34.856181                                        0   \n",
       "4    28.222222                                        1   \n",
       "\n",
       "   cr255210db1_pay_pay_types.use_salaries  cr255210db1_pay_pay_types.use_hours  \n",
       "0                                       1                                    1  \n",
       "1                                       1                                    1  \n",
       "2                                       1                                    1  \n",
       "3                                       1                                    1  \n",
       "4                                       1                                    1  "
      ]
     },
     "execution_count": 9,
     "metadata": {},
     "output_type": "execute_result"
    }
   ],
   "source": [
    "data = pd.read_excel('data/paycode_data.xlsx')\n",
    "data.head()"
   ]
  },
  {
   "cell_type": "markdown",
   "metadata": {},
   "source": [
    "The first two columns seems useless, so let's remove (aka \"drop\") them: "
   ]
  },
  {
   "cell_type": "code",
   "execution_count": 13,
   "metadata": {},
   "outputs": [
    {
     "data": {
      "text/html": [
       "<div>\n",
       "<style scoped>\n",
       "    .dataframe tbody tr th:only-of-type {\n",
       "        vertical-align: middle;\n",
       "    }\n",
       "\n",
       "    .dataframe tbody tr th {\n",
       "        vertical-align: top;\n",
       "    }\n",
       "\n",
       "    .dataframe thead th {\n",
       "        text-align: right;\n",
       "    }\n",
       "</style>\n",
       "<table border=\"1\" class=\"dataframe\">\n",
       "  <thead>\n",
       "    <tr style=\"text-align: right;\">\n",
       "      <th></th>\n",
       "      <th>pay_type_description</th>\n",
       "      <th>Total_Dollars</th>\n",
       "      <th>Total_Hours</th>\n",
       "      <th>Hourly Rate</th>\n",
       "      <th>cr255210db1_pay_pay_types.is_productive</th>\n",
       "      <th>cr255210db1_pay_pay_types.use_salaries</th>\n",
       "      <th>cr255210db1_pay_pay_types.use_hours</th>\n",
       "    </tr>\n",
       "  </thead>\n",
       "  <tbody>\n",
       "    <tr>\n",
       "      <th>0</th>\n",
       "      <td>MISC-REGULAR</td>\n",
       "      <td>93339554.0</td>\n",
       "      <td>2679091.0</td>\n",
       "      <td>34.840009</td>\n",
       "      <td>1</td>\n",
       "      <td>1</td>\n",
       "      <td>1</td>\n",
       "    </tr>\n",
       "    <tr>\n",
       "      <th>1</th>\n",
       "      <td>MISC-SICK PAY</td>\n",
       "      <td>5258853.0</td>\n",
       "      <td>158087.0</td>\n",
       "      <td>33.265563</td>\n",
       "      <td>0</td>\n",
       "      <td>1</td>\n",
       "      <td>1</td>\n",
       "    </tr>\n",
       "    <tr>\n",
       "      <th>2</th>\n",
       "      <td>MISC-VACATION</td>\n",
       "      <td>6710429.0</td>\n",
       "      <td>196136.0</td>\n",
       "      <td>34.213143</td>\n",
       "      <td>0</td>\n",
       "      <td>1</td>\n",
       "      <td>1</td>\n",
       "    </tr>\n",
       "    <tr>\n",
       "      <th>3</th>\n",
       "      <td>MISC-OTHER TIMEOFF</td>\n",
       "      <td>10103587.0</td>\n",
       "      <td>289865.0</td>\n",
       "      <td>34.856181</td>\n",
       "      <td>0</td>\n",
       "      <td>1</td>\n",
       "      <td>1</td>\n",
       "    </tr>\n",
       "    <tr>\n",
       "      <th>4</th>\n",
       "      <td>UNIFORM-REGULAR</td>\n",
       "      <td>5080.0</td>\n",
       "      <td>180.0</td>\n",
       "      <td>28.222222</td>\n",
       "      <td>1</td>\n",
       "      <td>1</td>\n",
       "      <td>1</td>\n",
       "    </tr>\n",
       "  </tbody>\n",
       "</table>\n",
       "</div>"
      ],
      "text/plain": [
       "  pay_type_description  Total_Dollars  Total_Hours  Hourly Rate  \\\n",
       "0         MISC-REGULAR     93339554.0    2679091.0    34.840009   \n",
       "1        MISC-SICK PAY      5258853.0     158087.0    33.265563   \n",
       "2        MISC-VACATION      6710429.0     196136.0    34.213143   \n",
       "3   MISC-OTHER TIMEOFF     10103587.0     289865.0    34.856181   \n",
       "4      UNIFORM-REGULAR         5080.0        180.0    28.222222   \n",
       "\n",
       "   cr255210db1_pay_pay_types.is_productive  \\\n",
       "0                                        1   \n",
       "1                                        0   \n",
       "2                                        0   \n",
       "3                                        0   \n",
       "4                                        1   \n",
       "\n",
       "   cr255210db1_pay_pay_types.use_salaries  cr255210db1_pay_pay_types.use_hours  \n",
       "0                                       1                                    1  \n",
       "1                                       1                                    1  \n",
       "2                                       1                                    1  \n",
       "3                                       1                                    1  \n",
       "4                                       1                                    1  "
      ]
     },
     "execution_count": 13,
     "metadata": {},
     "output_type": "execute_result"
    }
   ],
   "source": [
    "data = data.drop([\"report_id\", \"pay_type_id\"], axis = 1); \n",
    "data.head()"
   ]
  },
  {
   "cell_type": "markdown",
   "metadata": {},
   "source": [
    "Also, the last three column names seems a little messy. We can rename them: "
   ]
  },
  {
   "cell_type": "code",
   "execution_count": 15,
   "metadata": {},
   "outputs": [
    {
     "data": {
      "text/html": [
       "<div>\n",
       "<style scoped>\n",
       "    .dataframe tbody tr th:only-of-type {\n",
       "        vertical-align: middle;\n",
       "    }\n",
       "\n",
       "    .dataframe tbody tr th {\n",
       "        vertical-align: top;\n",
       "    }\n",
       "\n",
       "    .dataframe thead th {\n",
       "        text-align: right;\n",
       "    }\n",
       "</style>\n",
       "<table border=\"1\" class=\"dataframe\">\n",
       "  <thead>\n",
       "    <tr style=\"text-align: right;\">\n",
       "      <th></th>\n",
       "      <th>pay_type_description</th>\n",
       "      <th>total_dollars</th>\n",
       "      <th>total_hours</th>\n",
       "      <th>hourly_rate</th>\n",
       "      <th>is_productive</th>\n",
       "      <th>use_salaries</th>\n",
       "      <th>use_hours</th>\n",
       "    </tr>\n",
       "  </thead>\n",
       "  <tbody>\n",
       "    <tr>\n",
       "      <th>0</th>\n",
       "      <td>MISC-REGULAR</td>\n",
       "      <td>93339554.0</td>\n",
       "      <td>2679091.0</td>\n",
       "      <td>34.840009</td>\n",
       "      <td>1</td>\n",
       "      <td>1</td>\n",
       "      <td>1</td>\n",
       "    </tr>\n",
       "    <tr>\n",
       "      <th>1</th>\n",
       "      <td>MISC-SICK PAY</td>\n",
       "      <td>5258853.0</td>\n",
       "      <td>158087.0</td>\n",
       "      <td>33.265563</td>\n",
       "      <td>0</td>\n",
       "      <td>1</td>\n",
       "      <td>1</td>\n",
       "    </tr>\n",
       "    <tr>\n",
       "      <th>2</th>\n",
       "      <td>MISC-VACATION</td>\n",
       "      <td>6710429.0</td>\n",
       "      <td>196136.0</td>\n",
       "      <td>34.213143</td>\n",
       "      <td>0</td>\n",
       "      <td>1</td>\n",
       "      <td>1</td>\n",
       "    </tr>\n",
       "    <tr>\n",
       "      <th>3</th>\n",
       "      <td>MISC-OTHER TIMEOFF</td>\n",
       "      <td>10103587.0</td>\n",
       "      <td>289865.0</td>\n",
       "      <td>34.856181</td>\n",
       "      <td>0</td>\n",
       "      <td>1</td>\n",
       "      <td>1</td>\n",
       "    </tr>\n",
       "    <tr>\n",
       "      <th>4</th>\n",
       "      <td>UNIFORM-REGULAR</td>\n",
       "      <td>5080.0</td>\n",
       "      <td>180.0</td>\n",
       "      <td>28.222222</td>\n",
       "      <td>1</td>\n",
       "      <td>1</td>\n",
       "      <td>1</td>\n",
       "    </tr>\n",
       "  </tbody>\n",
       "</table>\n",
       "</div>"
      ],
      "text/plain": [
       "  pay_type_description  total_dollars  total_hours  hourly_rate  \\\n",
       "0         MISC-REGULAR     93339554.0    2679091.0    34.840009   \n",
       "1        MISC-SICK PAY      5258853.0     158087.0    33.265563   \n",
       "2        MISC-VACATION      6710429.0     196136.0    34.213143   \n",
       "3   MISC-OTHER TIMEOFF     10103587.0     289865.0    34.856181   \n",
       "4      UNIFORM-REGULAR         5080.0        180.0    28.222222   \n",
       "\n",
       "   is_productive  use_salaries  use_hours  \n",
       "0              1             1          1  \n",
       "1              0             1          1  \n",
       "2              0             1          1  \n",
       "3              0             1          1  \n",
       "4              1             1          1  "
      ]
     },
     "execution_count": 15,
     "metadata": {},
     "output_type": "execute_result"
    }
   ],
   "source": [
    "data.columns = ['pay_type_description', 'total_dollars', 'total_hours', 'hourly_rate', 'is_productive', 'use_salaries', 'use_hours']\n",
    "data.head()"
   ]
  },
  {
   "cell_type": "markdown",
   "metadata": {},
   "source": [
    "# Step 2 - Split Data into Training and Testing"
   ]
  },
  {
   "cell_type": "code",
   "execution_count": 36,
   "metadata": {},
   "outputs": [
    {
     "data": {
      "text/plain": [
       "62391"
      ]
     },
     "execution_count": 36,
     "metadata": {},
     "output_type": "execute_result"
    }
   ],
   "source": [
    "total = len(data)\n",
    "total"
   ]
  },
  {
   "cell_type": "markdown",
   "metadata": {},
   "source": [
    "We'll just use the 80/20 ratio for training and testing: "
   ]
  },
  {
   "cell_type": "code",
   "execution_count": 42,
   "metadata": {
    "scrolled": true
   },
   "outputs": [
    {
     "data": {
      "text/html": [
       "<div>\n",
       "<style scoped>\n",
       "    .dataframe tbody tr th:only-of-type {\n",
       "        vertical-align: middle;\n",
       "    }\n",
       "\n",
       "    .dataframe tbody tr th {\n",
       "        vertical-align: top;\n",
       "    }\n",
       "\n",
       "    .dataframe thead th {\n",
       "        text-align: right;\n",
       "    }\n",
       "</style>\n",
       "<table border=\"1\" class=\"dataframe\">\n",
       "  <thead>\n",
       "    <tr style=\"text-align: right;\">\n",
       "      <th></th>\n",
       "      <th>pay_type_description</th>\n",
       "      <th>total_dollars</th>\n",
       "      <th>total_hours</th>\n",
       "      <th>hourly_rate</th>\n",
       "      <th>is_productive</th>\n",
       "      <th>use_salaries</th>\n",
       "      <th>use_hours</th>\n",
       "    </tr>\n",
       "  </thead>\n",
       "  <tbody>\n",
       "    <tr>\n",
       "      <th>49907</th>\n",
       "      <td>B12 BNS RET 12</td>\n",
       "      <td>10000.00</td>\n",
       "      <td>0.0</td>\n",
       "      <td>0.0</td>\n",
       "      <td>0</td>\n",
       "      <td>1</td>\n",
       "      <td>0</td>\n",
       "    </tr>\n",
       "    <tr>\n",
       "      <th>49908</th>\n",
       "      <td>BN9 BNS OTS</td>\n",
       "      <td>308285.00</td>\n",
       "      <td>0.0</td>\n",
       "      <td>0.0</td>\n",
       "      <td>0</td>\n",
       "      <td>1</td>\n",
       "      <td>0</td>\n",
       "    </tr>\n",
       "    <tr>\n",
       "      <th>49909</th>\n",
       "      <td>BNA BNSANNUAL</td>\n",
       "      <td>7062.64</td>\n",
       "      <td>0.0</td>\n",
       "      <td>0.0</td>\n",
       "      <td>0</td>\n",
       "      <td>1</td>\n",
       "      <td>0</td>\n",
       "    </tr>\n",
       "    <tr>\n",
       "      <th>49910</th>\n",
       "      <td>BNC BNSQUARTER</td>\n",
       "      <td>550.00</td>\n",
       "      <td>0.0</td>\n",
       "      <td>0.0</td>\n",
       "      <td>0</td>\n",
       "      <td>1</td>\n",
       "      <td>0</td>\n",
       "    </tr>\n",
       "    <tr>\n",
       "      <th>49911</th>\n",
       "      <td>BNE BNSSODOH</td>\n",
       "      <td>50000.00</td>\n",
       "      <td>0.0</td>\n",
       "      <td>0.0</td>\n",
       "      <td>0</td>\n",
       "      <td>1</td>\n",
       "      <td>0</td>\n",
       "    </tr>\n",
       "  </tbody>\n",
       "</table>\n",
       "</div>"
      ],
      "text/plain": [
       "      pay_type_description  total_dollars  total_hours  hourly_rate  \\\n",
       "49907       B12 BNS RET 12       10000.00          0.0          0.0   \n",
       "49908          BN9 BNS OTS      308285.00          0.0          0.0   \n",
       "49909        BNA BNSANNUAL        7062.64          0.0          0.0   \n",
       "49910       BNC BNSQUARTER         550.00          0.0          0.0   \n",
       "49911         BNE BNSSODOH       50000.00          0.0          0.0   \n",
       "\n",
       "       is_productive  use_salaries  use_hours  \n",
       "49907              0             1          0  \n",
       "49908              0             1          0  \n",
       "49909              0             1          0  \n",
       "49910              0             1          0  \n",
       "49911              0             1          0  "
      ]
     },
     "execution_count": 42,
     "metadata": {},
     "output_type": "execute_result"
    }
   ],
   "source": [
    "train = data.iloc[ : int(total*0.8)]\n",
    "train.tail()"
   ]
  },
  {
   "cell_type": "code",
   "execution_count": 44,
   "metadata": {},
   "outputs": [
    {
     "data": {
      "text/html": [
       "<div>\n",
       "<style scoped>\n",
       "    .dataframe tbody tr th:only-of-type {\n",
       "        vertical-align: middle;\n",
       "    }\n",
       "\n",
       "    .dataframe tbody tr th {\n",
       "        vertical-align: top;\n",
       "    }\n",
       "\n",
       "    .dataframe thead th {\n",
       "        text-align: right;\n",
       "    }\n",
       "</style>\n",
       "<table border=\"1\" class=\"dataframe\">\n",
       "  <thead>\n",
       "    <tr style=\"text-align: right;\">\n",
       "      <th></th>\n",
       "      <th>pay_type_description</th>\n",
       "      <th>total_dollars</th>\n",
       "      <th>total_hours</th>\n",
       "      <th>hourly_rate</th>\n",
       "      <th>is_productive</th>\n",
       "      <th>use_salaries</th>\n",
       "      <th>use_hours</th>\n",
       "    </tr>\n",
       "  </thead>\n",
       "  <tbody>\n",
       "    <tr>\n",
       "      <th>49912</th>\n",
       "      <td>CEC MISCCOMP</td>\n",
       "      <td>8898.83</td>\n",
       "      <td>0.0</td>\n",
       "      <td>0.0</td>\n",
       "      <td>0</td>\n",
       "      <td>1</td>\n",
       "      <td>0</td>\n",
       "    </tr>\n",
       "    <tr>\n",
       "      <th>49913</th>\n",
       "      <td>Imputed Income</td>\n",
       "      <td>12627.00</td>\n",
       "      <td>0.0</td>\n",
       "      <td>0.0</td>\n",
       "      <td>0</td>\n",
       "      <td>1</td>\n",
       "      <td>0</td>\n",
       "    </tr>\n",
       "    <tr>\n",
       "      <th>49914</th>\n",
       "      <td>Med Direct</td>\n",
       "      <td>9100.00</td>\n",
       "      <td>0.0</td>\n",
       "      <td>0.0</td>\n",
       "      <td>0</td>\n",
       "      <td>1</td>\n",
       "      <td>0</td>\n",
       "    </tr>\n",
       "    <tr>\n",
       "      <th>49915</th>\n",
       "      <td>CHO HOUSECLRG</td>\n",
       "      <td>38736.00</td>\n",
       "      <td>0.0</td>\n",
       "      <td>0.0</td>\n",
       "      <td>0</td>\n",
       "      <td>1</td>\n",
       "      <td>0</td>\n",
       "    </tr>\n",
       "    <tr>\n",
       "      <th>49916</th>\n",
       "      <td>PT2 EIB</td>\n",
       "      <td>18502.45</td>\n",
       "      <td>0.0</td>\n",
       "      <td>0.0</td>\n",
       "      <td>0</td>\n",
       "      <td>1</td>\n",
       "      <td>0</td>\n",
       "    </tr>\n",
       "  </tbody>\n",
       "</table>\n",
       "</div>"
      ],
      "text/plain": [
       "      pay_type_description  total_dollars  total_hours  hourly_rate  \\\n",
       "49912         CEC MISCCOMP        8898.83          0.0          0.0   \n",
       "49913       Imputed Income       12627.00          0.0          0.0   \n",
       "49914           Med Direct        9100.00          0.0          0.0   \n",
       "49915        CHO HOUSECLRG       38736.00          0.0          0.0   \n",
       "49916              PT2 EIB       18502.45          0.0          0.0   \n",
       "\n",
       "       is_productive  use_salaries  use_hours  \n",
       "49912              0             1          0  \n",
       "49913              0             1          0  \n",
       "49914              0             1          0  \n",
       "49915              0             1          0  \n",
       "49916              0             1          0  "
      ]
     },
     "execution_count": 44,
     "metadata": {},
     "output_type": "execute_result"
    }
   ],
   "source": [
    "test = data.iloc[int(total*0.8):]\n",
    "test.head()"
   ]
  },
  {
   "cell_type": "markdown",
   "metadata": {},
   "source": [
    "# Step 3 - Classifier\n",
    "\n",
    "In this step, we will be trying different classification approaches. "
   ]
  },
  {
   "cell_type": "markdown",
   "metadata": {},
   "source": [
    "<h3> 1. Total Dollars </h3>\n",
    "\n",
    "There might be some correlation between the total dollar amount and the categories. So let's run some tests and see. "
   ]
  },
  {
   "cell_type": "markdown",
   "metadata": {},
   "source": [
    "<h3 style=\"color:green\"> total_hours vs is_productive </h3>"
   ]
  },
  {
   "cell_type": "markdown",
   "metadata": {},
   "source": [
    "### Training (Learning) "
   ]
  },
  {
   "cell_type": "code",
   "execution_count": 70,
   "metadata": {},
   "outputs": [
    {
     "data": {
      "text/plain": [
       "<matplotlib.collections.PathCollection at 0x12c38f320>"
      ]
     },
     "execution_count": 70,
     "metadata": {},
     "output_type": "execute_result"
    },
    {
     "data": {
      "image/png": "[encoded data removed]",
      "text/plain": [
       "<Figure size 720x360 with 1 Axes>"
      ]
     },
     "metadata": {
      "needs_background": "light"
     },
     "output_type": "display_data"
    }
   ],
   "source": [
    "fig = plt.figure(figsize=(10, 5))\n",
    "plt.scatter(x = train.total_dollars, y = train.is_productive, alpha = 0.1)"
   ]
  },
  {
   "cell_type": "markdown",
   "metadata": {},
   "source": [
    "It seems like that when the dollar amount gets large enough, it will fall into 1 (meaning IS productive). Let's find out more about the threshold. "
   ]
  },
  {
   "cell_type": "code",
   "execution_count": 50,
   "metadata": {},
   "outputs": [
    {
     "data": {
      "text/plain": [
       "181240153.41"
      ]
     },
     "execution_count": 50,
     "metadata": {},
     "output_type": "execute_result"
    }
   ],
   "source": [
    "max_not_productive_amount = max(train[train.is_productive == 0].total_dollars)\n",
    "max_not_productive_amount"
   ]
  },
  {
   "cell_type": "code",
   "execution_count": 63,
   "metadata": {},
   "outputs": [
    {
     "data": {
      "text/plain": [
       "<matplotlib.lines.Line2D at 0x12c2a8240>"
      ]
     },
     "execution_count": 63,
     "metadata": {},
     "output_type": "execute_result"
    },
    {
     "data": {
      "image/png": "[encoded data removed]",
      "text/plain": [
       "<Figure size 720x360 with 1 Axes>"
      ]
     },
     "metadata": {
      "needs_background": "light"
     },
     "output_type": "display_data"
    }
   ],
   "source": [
    "fig = plt.figure(figsize=(10, 5))\n",
    "plt.scatter(x = train.total_dollars, y = train.is_productive, alpha = 0.1)\n",
    "plt.scatter(max_not_productive_amount, 0, marker = '^', c = \"red\", s = 100) \n",
    "plt.axvline(x = max_not_productive_amount, color = \"red\", alpha = 0.5)"
   ]
  },
  {
   "cell_type": "markdown",
   "metadata": {},
   "source": [
    "Which means that to the right of the red verticle line, the payment is very likely productive. "
   ]
  },
  {
   "cell_type": "code",
   "execution_count": 96,
   "metadata": {
    "scrolled": false
   },
   "outputs": [
    {
     "data": {
      "image/png": "[encoded data removed]",
      "text/plain": [
       "<Figure size 720x360 with 1 Axes>"
      ]
     },
     "metadata": {
      "needs_background": "light"
     },
     "output_type": "display_data"
    }
   ],
   "source": [
    "fig = plt.figure(figsize=(10, 5))\n",
    "plt.hist(train[train.is_productive == 0].total_dollars, bins = 30); "
   ]
  },
  {
   "cell_type": "code",
   "execution_count": 119,
   "metadata": {
    "scrolled": true
   },
   "outputs": [
    {
     "data": {
      "text/plain": [
       "array([   1893.46 ,   22893.49 ,  158085.16 ,  249589.368,  757784.136,\n",
       "       1806148.05 ])"
      ]
     },
     "execution_count": 119,
     "metadata": {},
     "output_type": "execute_result"
    }
   ],
   "source": [
    "np.percentile(a = train[train.is_productive == 0].total_dollars, q = [25, 50, 75, 80, 90, 95])"
   ]
  },
  {
   "cell_type": "code",
   "execution_count": 138,
   "metadata": {
    "scrolled": false
   },
   "outputs": [
    {
     "data": {
      "text/plain": [
       "array([38455612.83772235, 41870477.160404  , 45303660.98975977])"
      ]
     },
     "execution_count": 138,
     "metadata": {},
     "output_type": "execute_result"
    }
   ],
   "source": [
    "np.percentile(a = train[train.is_productive == 0].total_dollars, q = [99.9, 99.91, 99.92])"
   ]
  },
  {
   "cell_type": "markdown",
   "metadata": {},
   "source": [
    "We can set the approximate threshold value to be $45303660, marked by the green triangle in the graph below. Anything above that can be classified as `is_productive`. "
   ]
  },
  {
   "cell_type": "code",
   "execution_count": 141,
   "metadata": {
    "scrolled": true
   },
   "outputs": [
    {
     "data": {
      "text/plain": [
       "<matplotlib.lines.Line2D at 0x11a08cba8>"
      ]
     },
     "execution_count": 141,
     "metadata": {},
     "output_type": "execute_result"
    },
    {
     "data": {
      "image/png": "[encoded data removed]",
      "text/plain": [
       "<Figure size 720x360 with 1 Axes>"
      ]
     },
     "metadata": {
      "needs_background": "light"
     },
     "output_type": "display_data"
    }
   ],
   "source": [
    "fig = plt.figure(figsize=(10, 5))\n",
    "plt.scatter(x = train.total_dollars, y = train.is_productive, alpha = 0.1)\n",
    "plt.scatter(max_not_productive_amount, 0, marker = '^', c = \"red\", s = 100) \n",
    "plt.axvline(x = max_not_productive_amount, color = \"red\", alpha = 0.5)\n",
    "plt.scatter(45303660, 0, marker = '^', c = \"green\", s = 100) \n",
    "plt.axvline(x = 45303660, color = \"green\", alpha = 0.5)"
   ]
  },
  {
   "cell_type": "markdown",
   "metadata": {},
   "source": [
    "### Testing"
   ]
  },
  {
   "cell_type": "code",
   "execution_count": 162,
   "metadata": {},
   "outputs": [],
   "source": [
    "def testing(threshold, attribute):\n",
    "    prediction = []\n",
    "    for amount in test.total_dollars:\n",
    "        if amount > threshold: \n",
    "            prediction.append(1)\n",
    "        else:\n",
    "            prediction.append(0)\n",
    "    \n",
    "    count = len(prediction)\n",
    "    if attribute == \"is_productive\": \n",
    "        truth = list(test.is_productive)\n",
    "    elif attribute == \"use_salaries\":\n",
    "        truth = list(test.use_salaries)\n",
    "    elif attribute == \"use_hours\":\n",
    "        truth = list(test.use_hours)\n",
    "    correct_count = 0 \n",
    "    for i in range(count):\n",
    "        if prediction[i] == truth[i]:\n",
    "            correct_count += 1\n",
    "    print(\"The correct rate of classifier is: \", correct_count / count)"
   ]
  },
  {
   "cell_type": "code",
   "execution_count": 163,
   "metadata": {},
   "outputs": [
    {
     "name": "stdout",
     "output_type": "stream",
     "text": [
      "The correct rate of classifier is:  0.5629457488580816\n"
     ]
    }
   ],
   "source": [
    "testing(45303660, \"is_productive\")"
   ]
  },
  {
   "cell_type": "markdown",
   "metadata": {},
   "source": [
    "Hmmm... Okay, 0.56, not too bad, but not very high either. "
   ]
  },
  {
   "cell_type": "markdown",
   "metadata": {},
   "source": [
    "<h3 style=\"color:green\"> total_dollars vs use_salaris </h3>"
   ]
  },
  {
   "cell_type": "code",
   "execution_count": 148,
   "metadata": {},
   "outputs": [
    {
     "data": {
      "text/plain": [
       "<matplotlib.collections.PathCollection at 0x120efdba8>"
      ]
     },
     "execution_count": 148,
     "metadata": {},
     "output_type": "execute_result"
    },
    {
     "data": {
      "image/png": "[encoded data removed]",
      "text/plain": [
       "<Figure size 720x360 with 1 Axes>"
      ]
     },
     "metadata": {
      "needs_background": "light"
     },
     "output_type": "display_data"
    }
   ],
   "source": [
    "fig = plt.figure(figsize=(10, 5))\n",
    "plt.scatter(x = train.total_dollars, y = train.use_salaries, alpha = 0.1)"
   ]
  },
  {
   "cell_type": "markdown",
   "metadata": {},
   "source": [
    "Okay, seems like a better correlation. "
   ]
  },
  {
   "cell_type": "code",
   "execution_count": 158,
   "metadata": {},
   "outputs": [
    {
     "data": {
      "text/plain": [
       "13888459.426900025"
      ]
     },
     "execution_count": 158,
     "metadata": {},
     "output_type": "execute_result"
    }
   ],
   "source": [
    "threshold = np.percentile(a = train[train.use_salaries == 0].total_dollars, q = 99.7)\n",
    "threshold"
   ]
  },
  {
   "cell_type": "code",
   "execution_count": 161,
   "metadata": {},
   "outputs": [
    {
     "data": {
      "text/plain": [
       "<matplotlib.lines.Line2D at 0x12bdd8e10>"
      ]
     },
     "execution_count": 161,
     "metadata": {},
     "output_type": "execute_result"
    },
    {
     "data": {
      "image/png": "[encoded data removed]",
      "text/plain": [
       "<Figure size 720x360 with 1 Axes>"
      ]
     },
     "metadata": {
      "needs_background": "light"
     },
     "output_type": "display_data"
    }
   ],
   "source": [
    "fig = plt.figure(figsize=(10, 5))\n",
    "plt.scatter(x = train.total_dollars, y = train.use_salaries, alpha = 0.1)\n",
    "plt.scatter(threshold, 0, marker = '^', c = \"green\", s = 100) \n",
    "plt.axvline(x = threshold, color = \"green\", alpha = 0.5)"
   ]
  },
  {
   "cell_type": "code",
   "execution_count": 164,
   "metadata": {
    "scrolled": false
   },
   "outputs": [
    {
     "name": "stdout",
     "output_type": "stream",
     "text": [
      "The correct rate of classifier is:  0.18551165958810803\n"
     ]
    }
   ],
   "source": [
    "testing(threshold, \"use_salaries\")"
   ]
  },
  {
   "cell_type": "markdown",
   "metadata": {},
   "source": [
    "Whoa, okay. Very bad. "
   ]
  },
  {
   "cell_type": "markdown",
   "metadata": {},
   "source": [
    "<h3 style=\"color:green\"> total_dollars vs use_hours </h3>"
   ]
  },
  {
   "cell_type": "code",
   "execution_count": 165,
   "metadata": {},
   "outputs": [
    {
     "data": {
      "text/plain": [
       "<matplotlib.collections.PathCollection at 0x11cc6eef0>"
      ]
     },
     "execution_count": 165,
     "metadata": {},
     "output_type": "execute_result"
    },
    {
     "data": {
      "image/png": "[encoded data removed]",
      "text/plain": [
       "<Figure size 720x360 with 1 Axes>"
      ]
     },
     "metadata": {
      "needs_background": "light"
     },
     "output_type": "display_data"
    }
   ],
   "source": [
    "fig = plt.figure(figsize=(10, 5))\n",
    "plt.scatter(x = train.total_dollars, y = train.use_hours, alpha = 0.1)"
   ]
  },
  {
   "cell_type": "markdown",
   "metadata": {},
   "source": [
    "The graph looks very similar to the total_dollars vs use_salaries graph. So it's probably not seperable. "
   ]
  },
  {
   "cell_type": "code",
   "execution_count": null,
   "metadata": {},
   "outputs": [],
   "source": []
  }
 ],
 "metadata": {
  "kernelspec": {
   "display_name": "Python 3",
   "language": "python",
   "name": "python3"
  },
  "language_info": {
   "codemirror_mode": {
    "name": "ipython",
    "version": 3
   },
   "file_extension": ".py",
   "mimetype": "text/x-python",
   "name": "python",
   "nbconvert_exporter": "python",
   "pygments_lexer": "ipython3",
   "version": "3.6.7"
  }
 },
 "nbformat": 4,
 "nbformat_minor": 2
}
